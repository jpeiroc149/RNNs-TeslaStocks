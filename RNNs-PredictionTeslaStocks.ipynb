{
  "cells": [
    {
      "cell_type": "markdown",
      "source": [
        "#**EVALUACIÓN RNNs PARA PREDICCIÓN DE VALORES BURSATILES FUTUROS**\n",
        "**(CASO TESLA)**\n",
        "\n",
        "JOSE PEIRÓ CARDONA"
      ],
      "metadata": {
        "id": "s6MUVphj3k4m"
      }
    },
    {
      "cell_type": "code",
      "execution_count": 1,
      "metadata": {
        "id": "idB1C1czyeYm"
      },
      "outputs": [],
      "source": [
        "import math\n",
        "import matplotlib.pyplot as plt\n",
        "import keras\n",
        "import pandas as pd\n",
        "import numpy as np\n",
        "from keras.models import Sequential\n",
        "from keras.layers import Dense\n",
        "from keras.layers import LSTM\n",
        "from keras.layers import Dropout\n",
        "from keras.layers import *\n",
        "from sklearn.preprocessing import MinMaxScaler\n",
        "from sklearn.metrics import mean_squared_error\n",
        "from sklearn.metrics import mean_absolute_error\n",
        "from sklearn.model_selection import train_test_split\n",
        "from keras.callbacks import EarlyStopping"
      ]
    },
    {
      "cell_type": "markdown",
      "metadata": {
        "id": "EjPvlexYUw5_"
      },
      "source": [
        "# **Parte I: Preparación de los datos**"
      ]
    },
    {
      "cell_type": "markdown",
      "source": [
        "Los datos los hemos descargado de Yahoo Finance: https://finance.yahoo.com/quote/TSLA/history?period1=1436486400&period2=1594339200&interval=1d&filter=history&frequency=1d&guccounter=1&guce_referrer=aHR0cHM6Ly90b3dhcmRzZGF0YXNjaWVuY2UuY29tLw&guce_referrer_sig=AQAAABaQdHwxB1TaDUpkBTwVVmfpgtMKPPNJTnRfmNOKzZkLFiFSTycdWNiIf3NTIQ-fTH-LGLvjWT4V5kGKWOPBIlSLJNCVqENx2wW7tIGN6CX6jtED5EhiCN1PIG28BbzlFC0XqLgvX13Oi3RY6m0Jq8c2toZXD31ZgkSu-GVdJ9KJ"
      ],
      "metadata": {
        "id": "VExVUcDt8gh7"
      }
    },
    {
      "cell_type": "code",
      "execution_count": 2,
      "metadata": {
        "colab": {
          "base_uri": "https://localhost:8080/",
          "height": 224
        },
        "id": "aKvuFCsvyrl3",
        "outputId": "5d7cb20d-c5a4-4668-b501-be76c39b4675"
      },
      "outputs": [
        {
          "output_type": "stream",
          "name": "stdout",
          "text": [
            "Number of rows and columns: (1259, 7)\n"
          ]
        },
        {
          "output_type": "execute_result",
          "data": {
            "text/plain": [
              "         Date       Open       High        Low      Close  Adj Close    Volume\n",
              "0  2015-07-10  17.481333  17.533333  17.188000  17.276667  17.276667  39163500\n",
              "1  2015-07-13  17.483334  17.503332  17.070000  17.477333  17.477333  44404500\n",
              "2  2015-07-14  17.473333  17.732668  17.367332  17.709999  17.709999  28614000\n",
              "3  2015-07-15  17.782667  17.832666  17.472000  17.542667  17.542667  30324000\n",
              "4  2015-07-16  17.614668  17.813334  17.544001  17.778667  17.778667  24240000"
            ],
            "text/html": [
              "\n",
              "  <div id=\"df-93edc246-bfc0-4859-bad7-a4e32ea0b4f7\" class=\"colab-df-container\">\n",
              "    <div>\n",
              "<style scoped>\n",
              "    .dataframe tbody tr th:only-of-type {\n",
              "        vertical-align: middle;\n",
              "    }\n",
              "\n",
              "    .dataframe tbody tr th {\n",
              "        vertical-align: top;\n",
              "    }\n",
              "\n",
              "    .dataframe thead th {\n",
              "        text-align: right;\n",
              "    }\n",
              "</style>\n",
              "<table border=\"1\" class=\"dataframe\">\n",
              "  <thead>\n",
              "    <tr style=\"text-align: right;\">\n",
              "      <th></th>\n",
              "      <th>Date</th>\n",
              "      <th>Open</th>\n",
              "      <th>High</th>\n",
              "      <th>Low</th>\n",
              "      <th>Close</th>\n",
              "      <th>Adj Close</th>\n",
              "      <th>Volume</th>\n",
              "    </tr>\n",
              "  </thead>\n",
              "  <tbody>\n",
              "    <tr>\n",
              "      <th>0</th>\n",
              "      <td>2015-07-10</td>\n",
              "      <td>17.481333</td>\n",
              "      <td>17.533333</td>\n",
              "      <td>17.188000</td>\n",
              "      <td>17.276667</td>\n",
              "      <td>17.276667</td>\n",
              "      <td>39163500</td>\n",
              "    </tr>\n",
              "    <tr>\n",
              "      <th>1</th>\n",
              "      <td>2015-07-13</td>\n",
              "      <td>17.483334</td>\n",
              "      <td>17.503332</td>\n",
              "      <td>17.070000</td>\n",
              "      <td>17.477333</td>\n",
              "      <td>17.477333</td>\n",
              "      <td>44404500</td>\n",
              "    </tr>\n",
              "    <tr>\n",
              "      <th>2</th>\n",
              "      <td>2015-07-14</td>\n",
              "      <td>17.473333</td>\n",
              "      <td>17.732668</td>\n",
              "      <td>17.367332</td>\n",
              "      <td>17.709999</td>\n",
              "      <td>17.709999</td>\n",
              "      <td>28614000</td>\n",
              "    </tr>\n",
              "    <tr>\n",
              "      <th>3</th>\n",
              "      <td>2015-07-15</td>\n",
              "      <td>17.782667</td>\n",
              "      <td>17.832666</td>\n",
              "      <td>17.472000</td>\n",
              "      <td>17.542667</td>\n",
              "      <td>17.542667</td>\n",
              "      <td>30324000</td>\n",
              "    </tr>\n",
              "    <tr>\n",
              "      <th>4</th>\n",
              "      <td>2015-07-16</td>\n",
              "      <td>17.614668</td>\n",
              "      <td>17.813334</td>\n",
              "      <td>17.544001</td>\n",
              "      <td>17.778667</td>\n",
              "      <td>17.778667</td>\n",
              "      <td>24240000</td>\n",
              "    </tr>\n",
              "  </tbody>\n",
              "</table>\n",
              "</div>\n",
              "    <div class=\"colab-df-buttons\">\n",
              "\n",
              "  <div class=\"colab-df-container\">\n",
              "    <button class=\"colab-df-convert\" onclick=\"convertToInteractive('df-93edc246-bfc0-4859-bad7-a4e32ea0b4f7')\"\n",
              "            title=\"Convert this dataframe to an interactive table.\"\n",
              "            style=\"display:none;\">\n",
              "\n",
              "  <svg xmlns=\"http://www.w3.org/2000/svg\" height=\"24px\" viewBox=\"0 -960 960 960\">\n",
              "    <path d=\"M120-120v-720h720v720H120Zm60-500h600v-160H180v160Zm220 220h160v-160H400v160Zm0 220h160v-160H400v160ZM180-400h160v-160H180v160Zm440 0h160v-160H620v160ZM180-180h160v-160H180v160Zm440 0h160v-160H620v160Z\"/>\n",
              "  </svg>\n",
              "    </button>\n",
              "\n",
              "  <style>\n",
              "    .colab-df-container {\n",
              "      display:flex;\n",
              "      gap: 12px;\n",
              "    }\n",
              "\n",
              "    .colab-df-convert {\n",
              "      background-color: #E8F0FE;\n",
              "      border: none;\n",
              "      border-radius: 50%;\n",
              "      cursor: pointer;\n",
              "      display: none;\n",
              "      fill: #1967D2;\n",
              "      height: 32px;\n",
              "      padding: 0 0 0 0;\n",
              "      width: 32px;\n",
              "    }\n",
              "\n",
              "    .colab-df-convert:hover {\n",
              "      background-color: #E2EBFA;\n",
              "      box-shadow: 0px 1px 2px rgba(60, 64, 67, 0.3), 0px 1px 3px 1px rgba(60, 64, 67, 0.15);\n",
              "      fill: #174EA6;\n",
              "    }\n",
              "\n",
              "    .colab-df-buttons div {\n",
              "      margin-bottom: 4px;\n",
              "    }\n",
              "\n",
              "    [theme=dark] .colab-df-convert {\n",
              "      background-color: #3B4455;\n",
              "      fill: #D2E3FC;\n",
              "    }\n",
              "\n",
              "    [theme=dark] .colab-df-convert:hover {\n",
              "      background-color: #434B5C;\n",
              "      box-shadow: 0px 1px 3px 1px rgba(0, 0, 0, 0.15);\n",
              "      filter: drop-shadow(0px 1px 2px rgba(0, 0, 0, 0.3));\n",
              "      fill: #FFFFFF;\n",
              "    }\n",
              "  </style>\n",
              "\n",
              "    <script>\n",
              "      const buttonEl =\n",
              "        document.querySelector('#df-93edc246-bfc0-4859-bad7-a4e32ea0b4f7 button.colab-df-convert');\n",
              "      buttonEl.style.display =\n",
              "        google.colab.kernel.accessAllowed ? 'block' : 'none';\n",
              "\n",
              "      async function convertToInteractive(key) {\n",
              "        const element = document.querySelector('#df-93edc246-bfc0-4859-bad7-a4e32ea0b4f7');\n",
              "        const dataTable =\n",
              "          await google.colab.kernel.invokeFunction('convertToInteractive',\n",
              "                                                    [key], {});\n",
              "        if (!dataTable) return;\n",
              "\n",
              "        const docLinkHtml = 'Like what you see? Visit the ' +\n",
              "          '<a target=\"_blank\" href=https://colab.research.google.com/notebooks/data_table.ipynb>data table notebook</a>'\n",
              "          + ' to learn more about interactive tables.';\n",
              "        element.innerHTML = '';\n",
              "        dataTable['output_type'] = 'display_data';\n",
              "        await google.colab.output.renderOutput(dataTable, element);\n",
              "        const docLink = document.createElement('div');\n",
              "        docLink.innerHTML = docLinkHtml;\n",
              "        element.appendChild(docLink);\n",
              "      }\n",
              "    </script>\n",
              "  </div>\n",
              "\n",
              "\n",
              "<div id=\"df-5f45c2b0-df74-49ed-8096-6f0c78d29076\">\n",
              "  <button class=\"colab-df-quickchart\" onclick=\"quickchart('df-5f45c2b0-df74-49ed-8096-6f0c78d29076')\"\n",
              "            title=\"Suggest charts\"\n",
              "            style=\"display:none;\">\n",
              "\n",
              "<svg xmlns=\"http://www.w3.org/2000/svg\" height=\"24px\"viewBox=\"0 0 24 24\"\n",
              "     width=\"24px\">\n",
              "    <g>\n",
              "        <path d=\"M19 3H5c-1.1 0-2 .9-2 2v14c0 1.1.9 2 2 2h14c1.1 0 2-.9 2-2V5c0-1.1-.9-2-2-2zM9 17H7v-7h2v7zm4 0h-2V7h2v10zm4 0h-2v-4h2v4z\"/>\n",
              "    </g>\n",
              "</svg>\n",
              "  </button>\n",
              "\n",
              "<style>\n",
              "  .colab-df-quickchart {\n",
              "      --bg-color: #E8F0FE;\n",
              "      --fill-color: #1967D2;\n",
              "      --hover-bg-color: #E2EBFA;\n",
              "      --hover-fill-color: #174EA6;\n",
              "      --disabled-fill-color: #AAA;\n",
              "      --disabled-bg-color: #DDD;\n",
              "  }\n",
              "\n",
              "  [theme=dark] .colab-df-quickchart {\n",
              "      --bg-color: #3B4455;\n",
              "      --fill-color: #D2E3FC;\n",
              "      --hover-bg-color: #434B5C;\n",
              "      --hover-fill-color: #FFFFFF;\n",
              "      --disabled-bg-color: #3B4455;\n",
              "      --disabled-fill-color: #666;\n",
              "  }\n",
              "\n",
              "  .colab-df-quickchart {\n",
              "    background-color: var(--bg-color);\n",
              "    border: none;\n",
              "    border-radius: 50%;\n",
              "    cursor: pointer;\n",
              "    display: none;\n",
              "    fill: var(--fill-color);\n",
              "    height: 32px;\n",
              "    padding: 0;\n",
              "    width: 32px;\n",
              "  }\n",
              "\n",
              "  .colab-df-quickchart:hover {\n",
              "    background-color: var(--hover-bg-color);\n",
              "    box-shadow: 0 1px 2px rgba(60, 64, 67, 0.3), 0 1px 3px 1px rgba(60, 64, 67, 0.15);\n",
              "    fill: var(--button-hover-fill-color);\n",
              "  }\n",
              "\n",
              "  .colab-df-quickchart-complete:disabled,\n",
              "  .colab-df-quickchart-complete:disabled:hover {\n",
              "    background-color: var(--disabled-bg-color);\n",
              "    fill: var(--disabled-fill-color);\n",
              "    box-shadow: none;\n",
              "  }\n",
              "\n",
              "  .colab-df-spinner {\n",
              "    border: 2px solid var(--fill-color);\n",
              "    border-color: transparent;\n",
              "    border-bottom-color: var(--fill-color);\n",
              "    animation:\n",
              "      spin 1s steps(1) infinite;\n",
              "  }\n",
              "\n",
              "  @keyframes spin {\n",
              "    0% {\n",
              "      border-color: transparent;\n",
              "      border-bottom-color: var(--fill-color);\n",
              "      border-left-color: var(--fill-color);\n",
              "    }\n",
              "    20% {\n",
              "      border-color: transparent;\n",
              "      border-left-color: var(--fill-color);\n",
              "      border-top-color: var(--fill-color);\n",
              "    }\n",
              "    30% {\n",
              "      border-color: transparent;\n",
              "      border-left-color: var(--fill-color);\n",
              "      border-top-color: var(--fill-color);\n",
              "      border-right-color: var(--fill-color);\n",
              "    }\n",
              "    40% {\n",
              "      border-color: transparent;\n",
              "      border-right-color: var(--fill-color);\n",
              "      border-top-color: var(--fill-color);\n",
              "    }\n",
              "    60% {\n",
              "      border-color: transparent;\n",
              "      border-right-color: var(--fill-color);\n",
              "    }\n",
              "    80% {\n",
              "      border-color: transparent;\n",
              "      border-right-color: var(--fill-color);\n",
              "      border-bottom-color: var(--fill-color);\n",
              "    }\n",
              "    90% {\n",
              "      border-color: transparent;\n",
              "      border-bottom-color: var(--fill-color);\n",
              "    }\n",
              "  }\n",
              "</style>\n",
              "\n",
              "  <script>\n",
              "    async function quickchart(key) {\n",
              "      const quickchartButtonEl =\n",
              "        document.querySelector('#' + key + ' button');\n",
              "      quickchartButtonEl.disabled = true;  // To prevent multiple clicks.\n",
              "      quickchartButtonEl.classList.add('colab-df-spinner');\n",
              "      try {\n",
              "        const charts = await google.colab.kernel.invokeFunction(\n",
              "            'suggestCharts', [key], {});\n",
              "      } catch (error) {\n",
              "        console.error('Error during call to suggestCharts:', error);\n",
              "      }\n",
              "      quickchartButtonEl.classList.remove('colab-df-spinner');\n",
              "      quickchartButtonEl.classList.add('colab-df-quickchart-complete');\n",
              "    }\n",
              "    (() => {\n",
              "      let quickchartButtonEl =\n",
              "        document.querySelector('#df-5f45c2b0-df74-49ed-8096-6f0c78d29076 button');\n",
              "      quickchartButtonEl.style.display =\n",
              "        google.colab.kernel.accessAllowed ? 'block' : 'none';\n",
              "    })();\n",
              "  </script>\n",
              "</div>\n",
              "    </div>\n",
              "  </div>\n"
            ],
            "application/vnd.google.colaboratory.intrinsic+json": {
              "type": "dataframe",
              "variable_name": "df",
              "summary": "{\n  \"name\": \"df\",\n  \"rows\": 1259,\n  \"fields\": [\n    {\n      \"column\": \"Date\",\n      \"properties\": {\n        \"dtype\": \"object\",\n        \"num_unique_values\": 1259,\n        \"samples\": [\n          \"2015-10-27\",\n          \"2019-08-07\",\n          \"2015-09-10\"\n        ],\n        \"semantic_type\": \"\",\n        \"description\": \"\"\n      }\n    },\n    {\n      \"column\": \"Open\",\n      \"properties\": {\n        \"dtype\": \"number\",\n        \"std\": 11.133585694954077,\n        \"min\": 9.488,\n        \"max\": 93.667336,\n        \"num_unique_values\": 1191,\n        \"samples\": [\n          16.620001,\n          14.834667,\n          15.333333\n        ],\n        \"semantic_type\": \"\",\n        \"description\": \"\"\n      }\n    },\n    {\n      \"column\": \"High\",\n      \"properties\": {\n        \"dtype\": \"number\",\n        \"std\": 11.485977549537953,\n        \"min\": 10.331333,\n        \"max\": 95.300003,\n        \"num_unique_values\": 1181,\n        \"samples\": [\n          22.930668,\n          17.049999,\n          27.123333\n        ],\n        \"semantic_type\": \"\",\n        \"description\": \"\"\n      }\n    },\n    {\n      \"column\": \"Low\",\n      \"properties\": {\n        \"dtype\": \"number\",\n        \"std\": 10.769537684525503,\n        \"min\": 9.403333,\n        \"max\": 90.085335,\n        \"num_unique_values\": 1196,\n        \"samples\": [\n          23.139999,\n          13.866667,\n          16.454\n        ],\n        \"semantic_type\": \"\",\n        \"description\": \"\"\n      }\n    },\n    {\n      \"column\": \"Close\",\n      \"properties\": {\n        \"dtype\": \"number\",\n        \"std\": 11.172913963823586,\n        \"min\": 9.578,\n        \"max\": 92.952003,\n        \"num_unique_values\": 1226,\n        \"samples\": [\n          22.896667,\n          22.139999,\n          17.846666\n        ],\n        \"semantic_type\": \"\",\n        \"description\": \"\"\n      }\n    },\n    {\n      \"column\": \"Adj Close\",\n      \"properties\": {\n        \"dtype\": \"number\",\n        \"std\": 11.172913963823586,\n        \"min\": 9.578,\n        \"max\": 92.952003,\n        \"num_unique_values\": 1226,\n        \"samples\": [\n          22.896667,\n          22.139999,\n          17.846666\n        ],\n        \"semantic_type\": \"\",\n        \"description\": \"\"\n      }\n    },\n    {\n      \"column\": \"Volume\",\n      \"properties\": {\n        \"dtype\": \"number\",\n        \"std\": 87841863,\n        \"min\": 10620000,\n        \"max\": 914082000,\n        \"num_unique_values\": 1255,\n        \"samples\": [\n          309868500,\n          44722500,\n          54966000\n        ],\n        \"semantic_type\": \"\",\n        \"description\": \"\"\n      }\n    }\n  ]\n}"
            }
          },
          "metadata": {},
          "execution_count": 2
        }
      ],
      "source": [
        "df=pd.read_csv(\"TSLA.csv\")\n",
        "print('Number of rows and columns:', df.shape)\n",
        "df.head(5)"
      ]
    },
    {
      "cell_type": "code",
      "execution_count": 3,
      "metadata": {
        "colab": {
          "base_uri": "https://localhost:8080/"
        },
        "id": "NKBia7WqUVdE",
        "outputId": "fb35b8a7-23ea-43f8-8cb5-d0c915fc0d01"
      },
      "outputs": [
        {
          "output_type": "stream",
          "name": "stdout",
          "text": [
            "              Open        Close\n",
            "count  1259.000000  1259.000000\n",
            "mean     21.531375    21.547353\n",
            "std      11.133586    11.172914\n",
            "min       9.488000     9.578000\n",
            "25%      15.287333    15.295667\n",
            "50%      18.922001    18.982000\n",
            "75%      22.654001    22.596666\n",
            "max      93.667336    92.952003\n"
          ]
        }
      ],
      "source": [
        "# Calcula estadísticas descriptivas sobre el dataset\n",
        "descriptive_stats = df[['Open', 'Close']].describe()\n",
        "\n",
        "# Muestra las estadísticas descriptivas\n",
        "print(descriptive_stats)"
      ]
    },
    {
      "cell_type": "markdown",
      "metadata": {
        "id": "5wJlHtYKVjgz"
      },
      "source": [
        "Número de observaciones (Count): Hay 1259 observaciones tanto para los precios de apertura como para los precios de cierre. Esto indica que no hay valores faltantes en el conjunto de datos.\n",
        "\n",
        "Promedio (Mean): El precio promedio de apertura es aproximadamente 21.53 dólares, mientras que el precio promedio de cierre es ligeramente mayor, alrededor de 21.55 dólares. Esto sugiere que, en promedio, las acciones de Tesla tienden a cerrar un poco más altas de lo que abren durante el período considerado.\n",
        "\n",
        "Desviación estándar (Std): La desviación estándar de los precios de apertura es de aproximadamente 11.13 dólares, mientras que para los precios de cierre es de aproximadamente 11.17 dólares. Esto indica que hay una cantidad significativa de variabilidad en los precios tanto en la apertura como en el cierre.\n",
        "\n",
        "Mínimo y Máximo (Min y Max): El precio mínimo de apertura registrado es de alrededor de 9.49 dólares, mientras que el precio mínimo de cierre es de aproximadamente 9.58 dólares. Por otro lado, el precio máximo de apertura observado es de aproximadamente 93.67 dólares, mientras que el precio máximo de cierre es de alrededor de 92.95 dólares. Estos valores proporcionan el rango en el que se han movido los precios de las acciones durante el período considerado."
      ]
    },
    {
      "cell_type": "code",
      "source": [
        "df['Date'] = pd.to_datetime(df['Date'])\n",
        "\n",
        "# Obtener el año de cada fecha\n",
        "df['Year'] = df['Date'].dt.year"
      ],
      "metadata": {
        "id": "REhwFzIK9Bv1"
      },
      "execution_count": 4,
      "outputs": []
    },
    {
      "cell_type": "code",
      "execution_count": 5,
      "metadata": {
        "colab": {
          "base_uri": "https://localhost:8080/",
          "height": 607
        },
        "id": "O4LRYFnuUSUL",
        "outputId": "da2bb6ed-8eb9-448d-9197-8f183e249121"
      },
      "outputs": [
        {
          "output_type": "display_data",
          "data": {
            "text/plain": [
              "<Figure size 1200x600 with 1 Axes>"
            ],
            "image/png": "[encoded data removed]"
          },
          "metadata": {}
        }
      ],
      "source": [
        "# Visualizar la serie temporal de 'Open' (Apertura)\n",
        "plt.figure(figsize=(12, 6))\n",
        "for year in df['Year'].unique():\n",
        "    year_data = df[df['Year'] == year]\n",
        "    plt.plot(year_data['Date'], year_data['Open'], color='green')\n",
        "\n",
        "plt.title('Tesla Open Price over Time')\n",
        "plt.xlabel('Date')\n",
        "plt.ylabel('Open Price')\n",
        "plt.xticks(rotation=45)\n",
        "plt.grid(True)\n",
        "plt.tight_layout()\n",
        "plt.show()"
      ]
    },
    {
      "cell_type": "code",
      "execution_count": 6,
      "metadata": {
        "colab": {
          "base_uri": "https://localhost:8080/",
          "height": 607
        },
        "id": "8d52olo-SgbG",
        "outputId": "cdff4e9d-9271-4c51-f307-a834ca8b9845"
      },
      "outputs": [
        {
          "output_type": "display_data",
          "data": {
            "text/plain": [
              "<Figure size 1200x600 with 1 Axes>"
            ],
            "image/png": "[encoded data removed]"
          },
          "metadata": {}
        }
      ],
      "source": [
        "\n",
        "# Visualizar la serie temporal de 'Close'\n",
        "plt.figure(figsize=(12, 6))\n",
        "for year in df['Year'].unique():\n",
        "    year_data = df[df['Year'] == year]\n",
        "    plt.plot(year_data['Date'], year_data['Close'], color='blue')\n",
        "\n",
        "plt.title('Tesla Close Price over Time')\n",
        "plt.xlabel('Date')\n",
        "plt.ylabel('Close Price')\n",
        "plt.xticks(rotation=45)\n",
        "plt.grid(True)\n",
        "plt.tight_layout()\n",
        "plt.show()"
      ]
    },
    {
      "cell_type": "markdown",
      "metadata": {
        "id": "2aAADU5iVwBs"
      },
      "source": [
        "**Preparación de los Datos**"
      ]
    },
    {
      "cell_type": "code",
      "execution_count": 7,
      "metadata": {
        "id": "va0KYNIhy7KM",
        "colab": {
          "base_uri": "https://localhost:8080/"
        },
        "outputId": "9ad51307-cfa8-4af4-cbb8-6b2cfabd4ce3"
      },
      "outputs": [
        {
          "output_type": "stream",
          "name": "stdout",
          "text": [
            "Dimensiones de train_data: (1007, 1)\n",
            "Dimensiones de val_data: (100, 1)\n",
            "Dimensiones de test_data: (152, 1)\n"
          ]
        }
      ],
      "source": [
        "# Dividir los datos en conjuntos de entrenamiento, validación y prueba\n",
        "train_size = int(len(df) * 0.8)  # 80% para entrenamiento\n",
        "val_size = int(train_size * 0.1)  # 10% del entrenamiento para validación\n",
        "test_size = len(df) - train_size  # Resto para prueba\n",
        "\n",
        "train_data = df.iloc[:train_size, 4:5].values\n",
        "val_data = df.iloc[train_size:train_size+val_size, 4:5].values\n",
        "test_data = df.iloc[train_size+val_size:, 4:5].values\n",
        "\n",
        "print(\"Dimensiones de train_data:\", train_data.shape)\n",
        "print(\"Dimensiones de val_data:\", val_data.shape)\n",
        "print(\"Dimensiones de test_data:\", test_data.shape)"
      ]
    },
    {
      "cell_type": "markdown",
      "metadata": {
        "id": "NF1xWYDmV-uU"
      },
      "source": [
        "**Preprocesamiento de datos y estructuración para RNNs**"
      ]
    },
    {
      "cell_type": "code",
      "execution_count": 8,
      "metadata": {
        "id": "aCHf--phy-N9",
        "colab": {
          "base_uri": "https://localhost:8080/"
        },
        "outputId": "c9e8f0ec-6156-47b3-fe14-64030a0ea50e"
      },
      "outputs": [
        {
          "output_type": "stream",
          "name": "stdout",
          "text": [
            "Dimensiones de X_train: (947, 60, 1)\n",
            "Dimensiones de X_test: (92, 60, 1)\n",
            "Dimensiones de X_val: (40, 60, 1)\n",
            "Dimensiones de y_train: (947, 1)\n",
            "Dimensiones de y_test: (92, 1)\n",
            "Dimensiones de y_val: (40, 1)\n"
          ]
        }
      ],
      "source": [
        "# Feature Scaling\n",
        "sc = MinMaxScaler(feature_range=(0, 1))\n",
        "train_data_scaled = sc.fit_transform(train_data)\n",
        "val_data_scaled = sc.transform(val_data)\n",
        "test_data_scaled = sc.transform(test_data)\n",
        "\n",
        "# Crear estructura de datos con 60 pasos de tiempo y 1 salida\n",
        "def create_dataset(dataset, time_steps=60):\n",
        "    X, y = [], []\n",
        "    for i in range(time_steps, len(dataset)):\n",
        "        X.append(dataset[i-time_steps:i, 0])\n",
        "        y.append(dataset[i, 0])\n",
        "    return np.array(X), np.array(y)\n",
        "\n",
        "X_train, y_train = create_dataset(train_data_scaled)\n",
        "X_val, y_val = create_dataset(val_data_scaled)\n",
        "X_test, y_test = create_dataset(test_data_scaled)\n",
        "\n",
        "# Reorganizar para LSTM: (muestras, pasos de tiempo, características)\n",
        "X_train = np.reshape(X_train, (X_train.shape[0], X_train.shape[1], 1))\n",
        "X_val = np.reshape(X_val, (X_val.shape[0], X_val.shape[1], 1))\n",
        "X_test = np.reshape(X_test, (X_test.shape[0], X_test.shape[1], 1))\n",
        "\n",
        "# Reorganizar para LSTM: (muestras, características)\n",
        "#agrega una dimensión adicional a tus datos de salida, convirtiéndolos en matrices bidimensionales en lugar de unidimensionales.\n",
        "#Esto asegura que tus datos de entrada y salida tengan la misma estructura y sean compatibles con tu modelo de RNN.\n",
        "y_train = y_train.reshape(-1, 1)\n",
        "y_val = y_val.reshape(-1, 1)\n",
        "y_test = y_test.reshape(-1, 1)\n",
        "\n",
        "# Mostrar las dimensiones de los datos de entrenamiento y prueba\n",
        "print(\"Dimensiones de X_train:\", X_train.shape)\n",
        "print(\"Dimensiones de X_test:\", X_test.shape)\n",
        "print(\"Dimensiones de X_val:\", X_val.shape)\n",
        "print(\"Dimensiones de y_train:\", y_train.shape)\n",
        "print(\"Dimensiones de y_test:\", y_test.shape)\n",
        "print(\"Dimensiones de y_val:\", y_val.shape)\n"
      ]
    },
    {
      "cell_type": "markdown",
      "metadata": {
        "id": "BUEMdz7uWhS7"
      },
      "source": [
        "# **Parte II: Modelado con Recurrent Neural Networks (RNNs)**"
      ]
    },
    {
      "cell_type": "markdown",
      "metadata": {
        "id": "MIEPvHNrXLPi"
      },
      "source": [
        "**SimpleRNN**"
      ]
    },
    {
      "cell_type": "markdown",
      "metadata": {
        "id": "fe0pB1r_YKHN"
      },
      "source": [
        "En el código, se implementa un modelo de red neuronal recurrente simple (SimpleRNN) para predecir el precio de las acciones de Tesla. Se utiliza la función de activación ReLU (Rectified Linear Unit) en la capa SimpleRNN. ReLU se elige comúnmente en las capas ocultas de las redes neuronales debido a su eficacia en la superación del problema de desvanecimiento del gradiente y su rapidez de convergencia en el entrenamiento.\n",
        "\n",
        "El optimizador Adam se selecciona para la compilación del modelo. Adam es una variante del descenso de gradiente estocástico (SGD) que combina ideas de otros métodos de optimización, como el momento y la adaptación de la tasa de aprendizaje. Proporciona una convergencia rápida y eficiente, adaptando de manera dinámica las tasas de aprendizaje para cada parámetro del modelo.\n",
        "\n",
        "Para evaluar el rendimiento del modelo durante el entrenamiento, se utiliza la función de pérdida Mean Squared Error (MSE). El MSE calcula la media de los cuadrados de las diferencias entre las predicciones del modelo y los valores reales. Es una métrica comúnmente utilizada en problemas de regresión, como la predicción de series temporales, donde el objetivo es minimizar la discrepancia entre las predicciones y los valores observados.\n",
        "\n",
        "Una vez compilado el modelo con Adam y MSE, se procede al entrenamiento con los datos de entrenamiento. Durante el entrenamiento, se monitorea la pérdida tanto en los datos de entrenamiento como en los datos de validación para evaluar la capacidad de generalización del modelo. Se grafican las pérdidas de entrenamiento y validación a lo largo de las épocas para visualizar la evolución del rendimiento del modelo durante el proceso de entrenamiento."
      ]
    },
    {
      "cell_type": "code",
      "execution_count": 10,
      "metadata": {
        "colab": {
          "base_uri": "https://localhost:8080/",
          "height": 1000
        },
        "id": "TirdAQ4a8w75",
        "outputId": "cb8b93a7-3828-4f0c-f4c6-f91b0d758646"
      },
      "outputs": [
        {
          "output_type": "stream",
          "name": "stdout",
          "text": [
            "Model: \"sequential\"\n",
            "_________________________________________________________________\n",
            " Layer (type)                Output Shape              Param #   \n",
            "=================================================================\n",
            " simple_rnn (SimpleRNN)      (None, 64)                4224      \n",
            "                                                                 \n",
            " dense (Dense)               (None, 1)                 65        \n",
            "                                                                 \n",
            "=================================================================\n",
            "Total params: 4289 (16.75 KB)\n",
            "Trainable params: 4289 (16.75 KB)\n",
            "Non-trainable params: 0 (0.00 Byte)\n",
            "_________________________________________________________________\n",
            "Epoch 1/100\n",
            "30/30 [==============================] - 5s 58ms/step - loss: 0.0922 - val_loss: 0.0148\n",
            "Epoch 2/100\n",
            "30/30 [==============================] - 1s 39ms/step - loss: 0.0034 - val_loss: 0.0038\n",
            "Epoch 3/100\n",
            "30/30 [==============================] - 1s 37ms/step - loss: 0.0020 - val_loss: 0.0041\n",
            "Epoch 4/100\n",
            "30/30 [==============================] - 1s 44ms/step - loss: 0.0018 - val_loss: 0.0039\n",
            "Epoch 5/100\n",
            "30/30 [==============================] - 1s 49ms/step - loss: 0.0018 - val_loss: 0.0036\n",
            "Epoch 6/100\n",
            "30/30 [==============================] - 1s 47ms/step - loss: 0.0017 - val_loss: 0.0041\n",
            "Epoch 7/100\n",
            "30/30 [==============================] - 2s 61ms/step - loss: 0.0017 - val_loss: 0.0034\n",
            "Epoch 8/100\n",
            "30/30 [==============================] - 1s 42ms/step - loss: 0.0017 - val_loss: 0.0033\n",
            "Epoch 9/100\n",
            "30/30 [==============================] - 1s 31ms/step - loss: 0.0016 - val_loss: 0.0036\n",
            "Epoch 10/100\n",
            "30/30 [==============================] - 1s 36ms/step - loss: 0.0016 - val_loss: 0.0032\n",
            "Epoch 11/100\n",
            "30/30 [==============================] - 1s 29ms/step - loss: 0.0016 - val_loss: 0.0030\n",
            "Epoch 12/100\n",
            "30/30 [==============================] - 1s 29ms/step - loss: 0.0016 - val_loss: 0.0031\n",
            "Epoch 13/100\n",
            "30/30 [==============================] - 1s 27ms/step - loss: 0.0016 - val_loss: 0.0035\n",
            "Epoch 14/100\n",
            "30/30 [==============================] - 1s 31ms/step - loss: 0.0016 - val_loss: 0.0029\n",
            "Epoch 15/100\n",
            "30/30 [==============================] - 1s 30ms/step - loss: 0.0015 - val_loss: 0.0029\n",
            "Epoch 16/100\n",
            "30/30 [==============================] - 1s 36ms/step - loss: 0.0014 - val_loss: 0.0031\n",
            "Epoch 17/100\n",
            "30/30 [==============================] - 1s 28ms/step - loss: 0.0015 - val_loss: 0.0036\n",
            "Epoch 18/100\n",
            "30/30 [==============================] - 1s 26ms/step - loss: 0.0014 - val_loss: 0.0026\n",
            "Epoch 19/100\n",
            "30/30 [==============================] - 1s 26ms/step - loss: 0.0013 - val_loss: 0.0027\n",
            "Epoch 20/100\n",
            "30/30 [==============================] - 1s 32ms/step - loss: 0.0013 - val_loss: 0.0027\n",
            "Epoch 21/100\n",
            "30/30 [==============================] - 1s 34ms/step - loss: 0.0013 - val_loss: 0.0023\n",
            "Epoch 22/100\n",
            "30/30 [==============================] - 1s 34ms/step - loss: 0.0013 - val_loss: 0.0026\n",
            "Epoch 23/100\n",
            "30/30 [==============================] - 1s 23ms/step - loss: 0.0013 - val_loss: 0.0028\n",
            "Epoch 24/100\n",
            "30/30 [==============================] - 0s 13ms/step - loss: 0.0013 - val_loss: 0.0024\n",
            "Epoch 25/100\n",
            "30/30 [==============================] - 0s 14ms/step - loss: 0.0012 - val_loss: 0.0022\n",
            "Epoch 26/100\n",
            "30/30 [==============================] - 0s 13ms/step - loss: 0.0013 - val_loss: 0.0023\n",
            "Epoch 27/100\n",
            "30/30 [==============================] - 0s 13ms/step - loss: 0.0012 - val_loss: 0.0023\n",
            "Epoch 28/100\n",
            "30/30 [==============================] - 0s 13ms/step - loss: 0.0013 - val_loss: 0.0022\n",
            "Epoch 29/100\n",
            "30/30 [==============================] - 0s 13ms/step - loss: 0.0012 - val_loss: 0.0022\n",
            "Epoch 30/100\n",
            "30/30 [==============================] - 0s 13ms/step - loss: 0.0012 - val_loss: 0.0021\n",
            "Epoch 31/100\n",
            "30/30 [==============================] - 0s 13ms/step - loss: 0.0012 - val_loss: 0.0021\n",
            "Epoch 32/100\n",
            "30/30 [==============================] - 0s 13ms/step - loss: 0.0012 - val_loss: 0.0020\n",
            "Epoch 33/100\n",
            "30/30 [==============================] - 0s 13ms/step - loss: 0.0013 - val_loss: 0.0022\n",
            "Epoch 34/100\n",
            "30/30 [==============================] - 0s 13ms/step - loss: 0.0012 - val_loss: 0.0020\n",
            "Epoch 35/100\n",
            "30/30 [==============================] - 0s 13ms/step - loss: 0.0012 - val_loss: 0.0022\n",
            "Epoch 36/100\n",
            "30/30 [==============================] - 0s 13ms/step - loss: 0.0012 - val_loss: 0.0024\n",
            "Epoch 37/100\n",
            "30/30 [==============================] - 0s 13ms/step - loss: 0.0012 - val_loss: 0.0023\n",
            "Epoch 38/100\n",
            "30/30 [==============================] - 0s 13ms/step - loss: 0.0012 - val_loss: 0.0021\n",
            "Epoch 39/100\n",
            "30/30 [==============================] - 0s 13ms/step - loss: 0.0013 - val_loss: 0.0025\n",
            "Epoch 40/100\n",
            "30/30 [==============================] - 0s 13ms/step - loss: 0.0012 - val_loss: 0.0021\n",
            "Epoch 41/100\n",
            "30/30 [==============================] - 0s 13ms/step - loss: 0.0012 - val_loss: 0.0022\n",
            "Epoch 42/100\n",
            "30/30 [==============================] - 0s 13ms/step - loss: 0.0012 - val_loss: 0.0023\n",
            "Epoch 43/100\n",
            "30/30 [==============================] - 0s 13ms/step - loss: 0.0011 - val_loss: 0.0026\n",
            "Epoch 44/100\n",
            "30/30 [==============================] - 0s 12ms/step - loss: 0.0012 - val_loss: 0.0022\n",
            "Epoch 45/100\n",
            "30/30 [==============================] - 0s 13ms/step - loss: 0.0011 - val_loss: 0.0022\n",
            "Epoch 46/100\n",
            "30/30 [==============================] - 0s 13ms/step - loss: 0.0012 - val_loss: 0.0022\n",
            "Epoch 47/100\n",
            "30/30 [==============================] - 0s 13ms/step - loss: 0.0011 - val_loss: 0.0024\n",
            "Epoch 48/100\n",
            "30/30 [==============================] - 0s 12ms/step - loss: 0.0012 - val_loss: 0.0019\n",
            "Epoch 49/100\n",
            "30/30 [==============================] - 0s 16ms/step - loss: 0.0012 - val_loss: 0.0023\n",
            "Epoch 50/100\n",
            "30/30 [==============================] - 1s 21ms/step - loss: 0.0012 - val_loss: 0.0022\n",
            "Epoch 51/100\n",
            "30/30 [==============================] - 1s 21ms/step - loss: 0.0011 - val_loss: 0.0023\n",
            "Epoch 52/100\n",
            "30/30 [==============================] - 1s 20ms/step - loss: 0.0012 - val_loss: 0.0019\n",
            "Epoch 53/100\n",
            "30/30 [==============================] - 1s 22ms/step - loss: 0.0012 - val_loss: 0.0021\n",
            "Epoch 54/100\n",
            "30/30 [==============================] - 0s 14ms/step - loss: 0.0011 - val_loss: 0.0024\n",
            "Epoch 55/100\n",
            "30/30 [==============================] - 0s 13ms/step - loss: 0.0012 - val_loss: 0.0021\n",
            "Epoch 56/100\n",
            "30/30 [==============================] - 0s 13ms/step - loss: 0.0012 - val_loss: 0.0020\n",
            "Epoch 57/100\n",
            "30/30 [==============================] - 0s 13ms/step - loss: 0.0011 - val_loss: 0.0020\n",
            "Epoch 58/100\n",
            "30/30 [==============================] - 0s 13ms/step - loss: 0.0011 - val_loss: 0.0020\n",
            "Epoch 59/100\n",
            "30/30 [==============================] - 0s 13ms/step - loss: 0.0011 - val_loss: 0.0019\n",
            "Epoch 60/100\n",
            "30/30 [==============================] - 0s 13ms/step - loss: 0.0011 - val_loss: 0.0022\n",
            "Epoch 61/100\n",
            "30/30 [==============================] - 0s 13ms/step - loss: 0.0011 - val_loss: 0.0019\n",
            "Epoch 62/100\n",
            "30/30 [==============================] - 0s 13ms/step - loss: 0.0011 - val_loss: 0.0029\n",
            "Epoch 63/100\n",
            "30/30 [==============================] - 0s 13ms/step - loss: 0.0011 - val_loss: 0.0023\n",
            "Epoch 64/100\n",
            "30/30 [==============================] - 0s 13ms/step - loss: 0.0011 - val_loss: 0.0019\n",
            "Epoch 65/100\n",
            "30/30 [==============================] - 0s 13ms/step - loss: 0.0011 - val_loss: 0.0018\n",
            "Epoch 66/100\n",
            "30/30 [==============================] - 0s 13ms/step - loss: 0.0011 - val_loss: 0.0020\n",
            "Epoch 67/100\n",
            "30/30 [==============================] - 0s 13ms/step - loss: 0.0011 - val_loss: 0.0020\n",
            "Epoch 68/100\n",
            "30/30 [==============================] - 0s 13ms/step - loss: 0.0011 - val_loss: 0.0018\n",
            "Epoch 69/100\n",
            "30/30 [==============================] - 0s 13ms/step - loss: 0.0011 - val_loss: 0.0020\n",
            "Epoch 70/100\n",
            "30/30 [==============================] - 0s 12ms/step - loss: 0.0011 - val_loss: 0.0020\n",
            "Epoch 71/100\n",
            "30/30 [==============================] - 0s 14ms/step - loss: 0.0011 - val_loss: 0.0021\n",
            "Epoch 72/100\n",
            "30/30 [==============================] - 0s 13ms/step - loss: 0.0011 - val_loss: 0.0020\n",
            "Epoch 73/100\n",
            "30/30 [==============================] - 0s 13ms/step - loss: 0.0011 - val_loss: 0.0019\n",
            "Epoch 74/100\n",
            "30/30 [==============================] - 0s 13ms/step - loss: 0.0011 - val_loss: 0.0021\n",
            "Epoch 75/100\n",
            "30/30 [==============================] - 0s 13ms/step - loss: 0.0011 - val_loss: 0.0023\n",
            "Epoch 76/100\n",
            "30/30 [==============================] - 0s 12ms/step - loss: 0.0012 - val_loss: 0.0022\n",
            "Epoch 77/100\n",
            "30/30 [==============================] - 0s 14ms/step - loss: 0.0011 - val_loss: 0.0019\n",
            "Epoch 78/100\n",
            "30/30 [==============================] - 0s 13ms/step - loss: 0.0012 - val_loss: 0.0024\n",
            "Epoch 79/100\n",
            "30/30 [==============================] - 1s 20ms/step - loss: 0.0011 - val_loss: 0.0022\n",
            "Epoch 80/100\n",
            "30/30 [==============================] - 1s 19ms/step - loss: 0.0011 - val_loss: 0.0025\n",
            "Epoch 81/100\n",
            "30/30 [==============================] - 1s 21ms/step - loss: 0.0011 - val_loss: 0.0020\n",
            "Epoch 82/100\n",
            "30/30 [==============================] - 1s 21ms/step - loss: 0.0012 - val_loss: 0.0023\n",
            "Epoch 83/100\n",
            "30/30 [==============================] - 1s 20ms/step - loss: 0.0011 - val_loss: 0.0021\n",
            "Epoch 84/100\n",
            "30/30 [==============================] - 0s 12ms/step - loss: 0.0011 - val_loss: 0.0019\n",
            "Epoch 85/100\n",
            "30/30 [==============================] - 0s 13ms/step - loss: 0.0011 - val_loss: 0.0022\n",
            "Epoch 86/100\n",
            "30/30 [==============================] - 0s 13ms/step - loss: 0.0011 - val_loss: 0.0021\n",
            "Epoch 87/100\n",
            "30/30 [==============================] - 0s 13ms/step - loss: 0.0012 - val_loss: 0.0024\n",
            "Epoch 88/100\n",
            "30/30 [==============================] - 0s 14ms/step - loss: 0.0012 - val_loss: 0.0022\n",
            "Epoch 89/100\n",
            "30/30 [==============================] - 0s 13ms/step - loss: 0.0011 - val_loss: 0.0021\n",
            "Epoch 90/100\n",
            "30/30 [==============================] - 0s 14ms/step - loss: 0.0011 - val_loss: 0.0023\n",
            "Epoch 91/100\n",
            "30/30 [==============================] - 0s 13ms/step - loss: 0.0011 - val_loss: 0.0020\n",
            "Epoch 92/100\n",
            "30/30 [==============================] - 0s 13ms/step - loss: 0.0011 - val_loss: 0.0022\n",
            "Epoch 93/100\n",
            "30/30 [==============================] - 0s 13ms/step - loss: 0.0011 - val_loss: 0.0019\n",
            "Epoch 94/100\n",
            "30/30 [==============================] - 0s 13ms/step - loss: 0.0012 - val_loss: 0.0024\n",
            "Epoch 95/100\n",
            "30/30 [==============================] - 0s 13ms/step - loss: 0.0011 - val_loss: 0.0020\n",
            "Epoch 96/100\n",
            "30/30 [==============================] - 0s 12ms/step - loss: 0.0011 - val_loss: 0.0025\n",
            "Epoch 97/100\n",
            "30/30 [==============================] - 0s 13ms/step - loss: 0.0011 - val_loss: 0.0021\n",
            "Epoch 98/100\n",
            "30/30 [==============================] - 0s 14ms/step - loss: 0.0011 - val_loss: 0.0021\n",
            "Epoch 99/100\n",
            "30/30 [==============================] - 0s 13ms/step - loss: 0.0011 - val_loss: 0.0025\n",
            "Epoch 100/100\n",
            "30/30 [==============================] - 1s 17ms/step - loss: 0.0012 - val_loss: 0.0020\n"
          ]
        },
        {
          "output_type": "display_data",
          "data": {
            "text/plain": [
              "<Figure size 640x480 with 1 Axes>"
            ],
            "image/png": "[encoded data removed]"
          },
          "metadata": {}
        },
        {
          "output_type": "stream",
          "name": "stdout",
          "text": [
            "3/3 [==============================] - 0s 13ms/step\n"
          ]
        }
      ],
      "source": [
        "from keras.layers import SimpleRNN\n",
        "\n",
        "# Modelo SimpleRNN\n",
        "model_simple_rnn = Sequential([\n",
        "    SimpleRNN(units=64, activation='relu', input_shape=(X_train.shape[1], 1)),\n",
        "    Dense(units=1)\n",
        "])\n",
        "\n",
        "# Compilar el modelo\n",
        "model_simple_rnn.compile(optimizer='adam', loss='mean_squared_error')\n",
        "\n",
        "#Visualizar modelo\n",
        "model_simple_rnn.summary()\n",
        "\n",
        "# Entrenar el modelo\n",
        "history_simple_rnn = model_simple_rnn.fit(X_train, y_train, epochs=100, batch_size=32, validation_data=(X_val, y_val))\n",
        "\n",
        "# Graficar la pérdida durante el entrenamiento para SimpleRNN\n",
        "plt.plot(history_simple_rnn.history['loss'], label='Training Loss')\n",
        "plt.plot(history_simple_rnn.history['val_loss'], label='Validation Loss')\n",
        "plt.title('Training and Validation Loss - SimpleRNN')\n",
        "plt.xlabel('Epochs')\n",
        "plt.ylabel('Loss')\n",
        "plt.legend()\n",
        "plt.show()\n"
      ]
    },
    {
      "cell_type": "markdown",
      "source": [
        "Descenso inicial pronunciado: Al principio del entrenamiento (desde aproximadamente la época 0 hasta alrededor de la época 10), tanto la pérdida de entrenamiento como la de validación disminuyen rápidamente. Esto sugiere que el modelo está aprendiendo rápidamente los patrones presentes en los datos de entrenamiento.\n",
        "\n",
        "Meseta: Tras el descenso inicial, tanto la pérdida de entrenamiento como la de validación se estabilizan. Los valores de pérdida se mantienen relativamente constantes desde alrededor de la época 10 hasta el final del proceso de entrenamiento (época 100). Esto indica que el modelo ha alcanzado un punto en el que un mayor entrenamiento no mejora significativamente su rendimiento.\n",
        "\n",
        "Sobreajuste: La diferencia entre la pérdida de entrenamiento y la de validación sugiere que el modelo podría estar sobreajustándose a los datos de entrenamiento. El sobreajuste ocurre cuando el modelo se adapta excesivamente a los datos de entrenamiento y no generaliza bien a datos no vistos. En este caso, la pérdida de entrenamiento es consistentemente menor que la de validación."
      ],
      "metadata": {
        "id": "j9wCMrXP15hx"
      }
    },
    {
      "cell_type": "code",
      "source": [
        "test_loss = model_simple_rnn.evaluate(X_test, y_test)\n",
        "print(\"Test Loss:\", test_loss)\n"
      ],
      "metadata": {
        "colab": {
          "base_uri": "https://localhost:8080/"
        },
        "id": "CO9PReAqXn0S",
        "outputId": "5dcff973-661e-4e1e-f1c2-75fb34e96bec"
      },
      "execution_count": 33,
      "outputs": [
        {
          "output_type": "stream",
          "name": "stdout",
          "text": [
            "3/3 [==============================] - 0s 27ms/step - loss: 0.3750\n",
            "Test Loss: 0.37498340010643005\n"
          ]
        }
      ]
    },
    {
      "cell_type": "markdown",
      "metadata": {
        "id": "uNBONGB-ZKyQ"
      },
      "source": [
        "**SimpleRNN mejorada (regularización)**\n"
      ]
    },
    {
      "cell_type": "markdown",
      "source": [
        "La regularización L2 penaliza los coeficientes grandes en la función de pérdida para evitar el sobreajuste, mejorando así la generalización del modelo.\n",
        "El learning rate de 0.01 que aplicamos en regularización controla la magnitud de los ajustes de los pesos durante el entrenamiento; un valor más bajo implica ajustes más pequeños, lo que puede resultar en una convergencia más lenta pero más estable hacia el mínimo global de la función de pérdida."
      ],
      "metadata": {
        "id": "9AMRKvz4i_4B"
      }
    },
    {
      "cell_type": "code",
      "execution_count": 12,
      "metadata": {
        "id": "hkef9-_2aF3q",
        "colab": {
          "base_uri": "https://localhost:8080/",
          "height": 1000
        },
        "outputId": "9550717f-ff8a-402d-935c-e42245a5aa2d"
      },
      "outputs": [
        {
          "output_type": "stream",
          "name": "stdout",
          "text": [
            "Model: \"sequential_2\"\n",
            "_________________________________________________________________\n",
            " Layer (type)                Output Shape              Param #   \n",
            "=================================================================\n",
            " simple_rnn_3 (SimpleRNN)    (None, 64)                4224      \n",
            "                                                                 \n",
            " dense_2 (Dense)             (None, 32)                2080      \n",
            "                                                                 \n",
            " dense_3 (Dense)             (None, 1)                 33        \n",
            "                                                                 \n",
            "=================================================================\n",
            "Total params: 6337 (24.75 KB)\n",
            "Trainable params: 6337 (24.75 KB)\n",
            "Non-trainable params: 0 (0.00 Byte)\n",
            "_________________________________________________________________\n",
            "Epoch 1/100\n",
            "30/30 [==============================] - 2s 21ms/step - loss: 0.4324 - val_loss: 0.3522\n",
            "Epoch 2/100\n",
            "30/30 [==============================] - 0s 13ms/step - loss: 0.3079 - val_loss: 0.2655\n",
            "Epoch 3/100\n",
            "30/30 [==============================] - 0s 13ms/step - loss: 0.2302 - val_loss: 0.1994\n",
            "Epoch 4/100\n",
            "30/30 [==============================] - 0s 14ms/step - loss: 0.1721 - val_loss: 0.1496\n",
            "Epoch 5/100\n",
            "30/30 [==============================] - 0s 13ms/step - loss: 0.1290 - val_loss: 0.1129\n",
            "Epoch 6/100\n",
            "30/30 [==============================] - 0s 13ms/step - loss: 0.0973 - val_loss: 0.0855\n",
            "Epoch 7/100\n",
            "30/30 [==============================] - 0s 13ms/step - loss: 0.0740 - val_loss: 0.0665\n",
            "Epoch 8/100\n",
            "30/30 [==============================] - 0s 13ms/step - loss: 0.0569 - val_loss: 0.0513\n",
            "Epoch 9/100\n",
            "30/30 [==============================] - 0s 13ms/step - loss: 0.0444 - val_loss: 0.0420\n",
            "Epoch 10/100\n",
            "30/30 [==============================] - 0s 14ms/step - loss: 0.0352 - val_loss: 0.0337\n",
            "Epoch 11/100\n",
            "30/30 [==============================] - 0s 14ms/step - loss: 0.0284 - val_loss: 0.0267\n",
            "Epoch 12/100\n",
            "30/30 [==============================] - 0s 14ms/step - loss: 0.0235 - val_loss: 0.0228\n",
            "Epoch 13/100\n",
            "30/30 [==============================] - 0s 13ms/step - loss: 0.0195 - val_loss: 0.0207\n",
            "Epoch 14/100\n",
            "30/30 [==============================] - 0s 13ms/step - loss: 0.0164 - val_loss: 0.0179\n",
            "Epoch 15/100\n",
            "30/30 [==============================] - 0s 14ms/step - loss: 0.0143 - val_loss: 0.0150\n",
            "Epoch 16/100\n",
            "30/30 [==============================] - 1s 21ms/step - loss: 0.0124 - val_loss: 0.0153\n",
            "Epoch 17/100\n",
            "30/30 [==============================] - 1s 21ms/step - loss: 0.0112 - val_loss: 0.0120\n",
            "Epoch 18/100\n",
            "30/30 [==============================] - 1s 23ms/step - loss: 0.0104 - val_loss: 0.0122\n",
            "Epoch 19/100\n",
            "30/30 [==============================] - 1s 23ms/step - loss: 0.0093 - val_loss: 0.0114\n",
            "Epoch 20/100\n",
            "30/30 [==============================] - 0s 14ms/step - loss: 0.0083 - val_loss: 0.0101\n",
            "Epoch 21/100\n",
            "30/30 [==============================] - 0s 13ms/step - loss: 0.0077 - val_loss: 0.0106\n",
            "Epoch 22/100\n",
            "30/30 [==============================] - 0s 14ms/step - loss: 0.0071 - val_loss: 0.0107\n",
            "Epoch 23/100\n",
            "30/30 [==============================] - 0s 14ms/step - loss: 0.0071 - val_loss: 0.0106\n",
            "Epoch 24/100\n",
            "30/30 [==============================] - 0s 14ms/step - loss: 0.0068 - val_loss: 0.0081\n",
            "Epoch 25/100\n",
            "30/30 [==============================] - 0s 14ms/step - loss: 0.0066 - val_loss: 0.0102\n",
            "Epoch 26/100\n",
            "30/30 [==============================] - 0s 13ms/step - loss: 0.0060 - val_loss: 0.0106\n",
            "Epoch 27/100\n",
            "30/30 [==============================] - 0s 14ms/step - loss: 0.0062 - val_loss: 0.0076\n",
            "Epoch 28/100\n",
            "30/30 [==============================] - 0s 13ms/step - loss: 0.0057 - val_loss: 0.0101\n",
            "Epoch 29/100\n",
            "30/30 [==============================] - 0s 13ms/step - loss: 0.0056 - val_loss: 0.0093\n",
            "Epoch 30/100\n",
            "30/30 [==============================] - 0s 13ms/step - loss: 0.0053 - val_loss: 0.0076\n",
            "Epoch 31/100\n",
            "30/30 [==============================] - 0s 13ms/step - loss: 0.0057 - val_loss: 0.0116\n",
            "Epoch 32/100\n",
            "30/30 [==============================] - 0s 15ms/step - loss: 0.0054 - val_loss: 0.0082\n",
            "Epoch 33/100\n",
            "30/30 [==============================] - 0s 13ms/step - loss: 0.0052 - val_loss: 0.0070\n",
            "Epoch 34/100\n",
            "30/30 [==============================] - 1s 17ms/step - loss: 0.0053 - val_loss: 0.0081\n",
            "Epoch 35/100\n",
            "30/30 [==============================] - 1s 22ms/step - loss: 0.0053 - val_loss: 0.0075\n",
            "Epoch 36/100\n",
            "30/30 [==============================] - 1s 22ms/step - loss: 0.0052 - val_loss: 0.0074\n",
            "Epoch 37/100\n",
            "30/30 [==============================] - 1s 22ms/step - loss: 0.0051 - val_loss: 0.0086\n",
            "Epoch 38/100\n",
            "30/30 [==============================] - 1s 20ms/step - loss: 0.0049 - val_loss: 0.0088\n",
            "Epoch 39/100\n",
            "30/30 [==============================] - 0s 13ms/step - loss: 0.0048 - val_loss: 0.0069\n",
            "Epoch 40/100\n",
            "30/30 [==============================] - 0s 14ms/step - loss: 0.0054 - val_loss: 0.0079\n",
            "Epoch 41/100\n",
            "30/30 [==============================] - 1s 17ms/step - loss: 0.0049 - val_loss: 0.0094\n",
            "Epoch 42/100\n",
            "30/30 [==============================] - 1s 20ms/step - loss: 0.0049 - val_loss: 0.0071\n",
            "Epoch 43/100\n",
            "30/30 [==============================] - 1s 23ms/step - loss: 0.0049 - val_loss: 0.0081\n",
            "Epoch 44/100\n",
            "30/30 [==============================] - 1s 21ms/step - loss: 0.0051 - val_loss: 0.0117\n",
            "Epoch 45/100\n",
            "30/30 [==============================] - 1s 20ms/step - loss: 0.0050 - val_loss: 0.0069\n",
            "Epoch 46/100\n",
            "30/30 [==============================] - 0s 13ms/step - loss: 0.0049 - val_loss: 0.0072\n",
            "Epoch 47/100\n",
            "30/30 [==============================] - 0s 14ms/step - loss: 0.0047 - val_loss: 0.0067\n",
            "Epoch 48/100\n",
            "30/30 [==============================] - 0s 13ms/step - loss: 0.0046 - val_loss: 0.0069\n",
            "Epoch 49/100\n",
            "30/30 [==============================] - 0s 13ms/step - loss: 0.0048 - val_loss: 0.0069\n",
            "Epoch 50/100\n",
            "30/30 [==============================] - 0s 14ms/step - loss: 0.0046 - val_loss: 0.0098\n",
            "Epoch 51/100\n",
            "30/30 [==============================] - 0s 13ms/step - loss: 0.0050 - val_loss: 0.0081\n",
            "Epoch 52/100\n",
            "30/30 [==============================] - 0s 13ms/step - loss: 0.0045 - val_loss: 0.0089\n",
            "Epoch 53/100\n",
            "30/30 [==============================] - 0s 13ms/step - loss: 0.0048 - val_loss: 0.0078\n",
            "Epoch 54/100\n",
            "30/30 [==============================] - 0s 14ms/step - loss: 0.0049 - val_loss: 0.0107\n",
            "Epoch 55/100\n",
            "30/30 [==============================] - 0s 13ms/step - loss: 0.0047 - val_loss: 0.0087\n",
            "Epoch 56/100\n",
            "30/30 [==============================] - 0s 14ms/step - loss: 0.0045 - val_loss: 0.0072\n",
            "Epoch 57/100\n",
            "30/30 [==============================] - 0s 14ms/step - loss: 0.0048 - val_loss: 0.0071\n",
            "Epoch 58/100\n",
            "30/30 [==============================] - 0s 14ms/step - loss: 0.0047 - val_loss: 0.0101\n",
            "Epoch 59/100\n",
            "30/30 [==============================] - 0s 13ms/step - loss: 0.0044 - val_loss: 0.0068\n",
            "Epoch 60/100\n",
            "30/30 [==============================] - 0s 13ms/step - loss: 0.0042 - val_loss: 0.0066\n",
            "Epoch 61/100\n",
            "30/30 [==============================] - 0s 13ms/step - loss: 0.0043 - val_loss: 0.0072\n",
            "Epoch 62/100\n",
            "30/30 [==============================] - 0s 13ms/step - loss: 0.0041 - val_loss: 0.0067\n",
            "Epoch 63/100\n",
            "30/30 [==============================] - 0s 14ms/step - loss: 0.0042 - val_loss: 0.0075\n",
            "Epoch 64/100\n",
            "30/30 [==============================] - 0s 13ms/step - loss: 0.0043 - val_loss: 0.0073\n",
            "Epoch 65/100\n",
            "30/30 [==============================] - 0s 14ms/step - loss: 0.0041 - val_loss: 0.0065\n",
            "Epoch 66/100\n",
            "30/30 [==============================] - 0s 13ms/step - loss: 0.0042 - val_loss: 0.0088\n",
            "Epoch 67/100\n",
            "30/30 [==============================] - 0s 13ms/step - loss: 0.0042 - val_loss: 0.0083\n",
            "Epoch 68/100\n",
            "30/30 [==============================] - 0s 14ms/step - loss: 0.0043 - val_loss: 0.0064\n",
            "Epoch 69/100\n",
            "30/30 [==============================] - 0s 14ms/step - loss: 0.0047 - val_loss: 0.0070\n",
            "Epoch 70/100\n",
            "30/30 [==============================] - 1s 21ms/step - loss: 0.0045 - val_loss: 0.0064\n",
            "Epoch 71/100\n",
            "30/30 [==============================] - 1s 22ms/step - loss: 0.0044 - val_loss: 0.0113\n",
            "Epoch 72/100\n",
            "30/30 [==============================] - 1s 22ms/step - loss: 0.0043 - val_loss: 0.0069\n",
            "Epoch 73/100\n",
            "30/30 [==============================] - 1s 25ms/step - loss: 0.0041 - val_loss: 0.0075\n",
            "Epoch 74/100\n",
            "30/30 [==============================] - 0s 13ms/step - loss: 0.0043 - val_loss: 0.0091\n",
            "Epoch 75/100\n",
            "30/30 [==============================] - 0s 14ms/step - loss: 0.0041 - val_loss: 0.0063\n",
            "Epoch 76/100\n",
            "30/30 [==============================] - 0s 13ms/step - loss: 0.0041 - val_loss: 0.0063\n",
            "Epoch 77/100\n",
            "30/30 [==============================] - 0s 13ms/step - loss: 0.0042 - val_loss: 0.0084\n",
            "Epoch 78/100\n",
            "30/30 [==============================] - 0s 14ms/step - loss: 0.0040 - val_loss: 0.0063\n",
            "Epoch 79/100\n",
            "30/30 [==============================] - 0s 13ms/step - loss: 0.0043 - val_loss: 0.0064\n",
            "Epoch 80/100\n",
            "30/30 [==============================] - 0s 14ms/step - loss: 0.0042 - val_loss: 0.0074\n",
            "Epoch 81/100\n",
            "30/30 [==============================] - 0s 13ms/step - loss: 0.0043 - val_loss: 0.0061\n",
            "Epoch 82/100\n",
            "30/30 [==============================] - 0s 13ms/step - loss: 0.0044 - val_loss: 0.0118\n",
            "Epoch 83/100\n",
            "30/30 [==============================] - 0s 14ms/step - loss: 0.0046 - val_loss: 0.0077\n",
            "Epoch 84/100\n",
            "30/30 [==============================] - 0s 13ms/step - loss: 0.0039 - val_loss: 0.0063\n",
            "Epoch 85/100\n",
            "30/30 [==============================] - 0s 14ms/step - loss: 0.0042 - val_loss: 0.0063\n",
            "Epoch 86/100\n",
            "30/30 [==============================] - 0s 13ms/step - loss: 0.0038 - val_loss: 0.0083\n",
            "Epoch 87/100\n",
            "30/30 [==============================] - 0s 13ms/step - loss: 0.0039 - val_loss: 0.0062\n",
            "Epoch 88/100\n",
            "30/30 [==============================] - 0s 14ms/step - loss: 0.0045 - val_loss: 0.0077\n",
            "Epoch 89/100\n",
            "30/30 [==============================] - 0s 13ms/step - loss: 0.0047 - val_loss: 0.0060\n",
            "Epoch 90/100\n",
            "30/30 [==============================] - 0s 14ms/step - loss: 0.0044 - val_loss: 0.0072\n",
            "Epoch 91/100\n",
            "30/30 [==============================] - 0s 13ms/step - loss: 0.0039 - val_loss: 0.0058\n",
            "Epoch 92/100\n",
            "30/30 [==============================] - 0s 14ms/step - loss: 0.0040 - val_loss: 0.0060\n",
            "Epoch 93/100\n",
            "30/30 [==============================] - 0s 14ms/step - loss: 0.0038 - val_loss: 0.0070\n",
            "Epoch 94/100\n",
            "30/30 [==============================] - 0s 13ms/step - loss: 0.0040 - val_loss: 0.0068\n",
            "Epoch 95/100\n",
            "30/30 [==============================] - 0s 14ms/step - loss: 0.0040 - val_loss: 0.0080\n",
            "Epoch 96/100\n",
            "30/30 [==============================] - 0s 13ms/step - loss: 0.0038 - val_loss: 0.0063\n",
            "Epoch 97/100\n",
            "30/30 [==============================] - 0s 13ms/step - loss: 0.0040 - val_loss: 0.0058\n",
            "Epoch 98/100\n",
            "30/30 [==============================] - 1s 20ms/step - loss: 0.0045 - val_loss: 0.0077\n",
            "Epoch 99/100\n",
            "30/30 [==============================] - 1s 20ms/step - loss: 0.0045 - val_loss: 0.0065\n",
            "Epoch 100/100\n",
            "30/30 [==============================] - 1s 20ms/step - loss: 0.0038 - val_loss: 0.0078\n"
          ]
        },
        {
          "output_type": "display_data",
          "data": {
            "text/plain": [
              "<Figure size 640x480 with 1 Axes>"
            ],
            "image/png": "[encoded data removed]"
          },
          "metadata": {}
        }
      ],
      "source": [
        "from keras.layers import SimpleRNN, Dense\n",
        "from keras.regularizers import l2\n",
        "from keras.models import Sequential\n",
        "\n",
        "# Modelo SimpleRNN con regularización L2\n",
        "model_simple_rnn_regularized = Sequential([\n",
        "    SimpleRNN(units=64, activation='relu', input_shape=(X_train.shape[1], 1), kernel_regularizer=l2(0.01)),\n",
        "    Dense(units=32, activation='relu', kernel_regularizer=l2(0.01)),\n",
        "    Dense(units=1)\n",
        "])\n",
        "\n",
        "# Compilar el modelo\n",
        "model_simple_rnn_regularized.compile(optimizer='adam', loss='mean_squared_error')\n",
        "\n",
        "# Visualizar modelo\n",
        "model_simple_rnn_regularized.summary()\n",
        "\n",
        "# Entrenar el modelo\n",
        "history_simple_rnn = model_simple_rnn_regularized.fit(X_train, y_train, epochs=100, batch_size=32, validation_data=(X_val, y_val))\n",
        "\n",
        "# Graficar la pérdida durante el entrenamiento para SimpleRNN\n",
        "plt.plot(history_simple_rnn.history['loss'], label='Training Loss')\n",
        "plt.plot(history_simple_rnn.history['val_loss'], label='Validation Loss')\n",
        "plt.title('Training and Validation Loss - SimpleRNN with L2 Regularization')\n",
        "plt.xlabel('Epochs')\n",
        "plt.ylabel('Loss')\n",
        "plt.legend()\n",
        "plt.show()"
      ]
    },
    {
      "cell_type": "markdown",
      "source": [
        "Este modelo utiliza una arquitectura SimpleRNN con regularización L2 para predecir valores. El gráfico de pérdida muestra un buen comportamiento, pero se pueden realizar ajustes adicionales para optimizar el rendimiento. La regularización L2 ayuda a mantener la pérdida bajo control y evitar el sobreajuste.\n",
        "\n",
        "Aún así, realizamos early stopping, una técnica que detiene el entrenamiento cuando la pérdida de validación deja de mejorar"
      ],
      "metadata": {
        "id": "unGskOir5jh7"
      }
    },
    {
      "cell_type": "markdown",
      "source": [
        "**SimpleRNN mejorada (regularizacióny EarlyStopping)**\n"
      ],
      "metadata": {
        "id": "VkW4Ip3qS-xa"
      }
    },
    {
      "cell_type": "code",
      "source": [
        "from keras.layers import SimpleRNN, Dense\n",
        "from keras.regularizers import l2\n",
        "from keras.models import Sequential\n",
        "from keras.callbacks import EarlyStopping\n",
        "import matplotlib.pyplot as plt\n",
        "\n",
        "# Modelo SimpleRNN con regularización L2\n",
        "model_simple_rnn_regularized = Sequential([\n",
        "    SimpleRNN(units=64, activation='relu', input_shape=(X_train.shape[1], 1), kernel_regularizer=l2(0.001)),\n",
        "    Dense(units=32, activation='relu', kernel_regularizer=l2(0.001)),\n",
        "    Dense(units=1)\n",
        "])\n",
        "\n",
        "# Compilar el modelo\n",
        "model_simple_rnn_regularized.compile(optimizer='adam', loss='mean_squared_error')\n",
        "\n",
        "# Visualizar modelo\n",
        "model_simple_rnn_regularized.summary()\n",
        "\n",
        "# Early stopping\n",
        "early_stopping = EarlyStopping(monitor='val_loss', patience=5, restore_best_weights=True)\n",
        "\n",
        "# Entrenar el modelo con early stopping\n",
        "history_simple_rnn = model_simple_rnn_regularized.fit(X_train, y_train, epochs=100, batch_size=32, validation_data=(X_val, y_val), callbacks=[early_stopping])\n",
        "\n",
        "# Graficar la pérdida durante el entrenamiento para SimpleRNN\n",
        "plt.plot(history_simple_rnn.history['loss'], label='Training Loss')\n",
        "plt.plot(history_simple_rnn.history['val_loss'], label='Validation Loss')\n",
        "plt.title('Training and Validation Loss - SimpleRNN with L2 Regularization and Early Stopping')\n",
        "plt.xlabel('Epochs')\n",
        "plt.ylabel('Loss')\n",
        "plt.legend()\n",
        "plt.show()\n"
      ],
      "metadata": {
        "colab": {
          "base_uri": "https://localhost:8080/",
          "height": 1000
        },
        "id": "BE6TopqX7X_e",
        "outputId": "0e0df0c5-2005-42c9-8328-136d047ec01b"
      },
      "execution_count": 77,
      "outputs": [
        {
          "output_type": "stream",
          "name": "stdout",
          "text": [
            "Model: \"sequential_39\"\n",
            "_________________________________________________________________\n",
            " Layer (type)                Output Shape              Param #   \n",
            "=================================================================\n",
            " simple_rnn_6 (SimpleRNN)    (None, 64)                4224      \n",
            "                                                                 \n",
            " dense_48 (Dense)            (None, 32)                2080      \n",
            "                                                                 \n",
            " dense_49 (Dense)            (None, 1)                 33        \n",
            "                                                                 \n",
            "=================================================================\n",
            "Total params: 6337 (24.75 KB)\n",
            "Trainable params: 6337 (24.75 KB)\n",
            "Non-trainable params: 0 (0.00 Byte)\n",
            "_________________________________________________________________\n",
            "Epoch 1/100\n",
            "30/30 [==============================] - 4s 22ms/step - loss: 0.0845 - val_loss: 0.0410\n",
            "Epoch 2/100\n",
            "30/30 [==============================] - 0s 14ms/step - loss: 0.0340 - val_loss: 0.0320\n",
            "Epoch 3/100\n",
            "30/30 [==============================] - 0s 14ms/step - loss: 0.0275 - val_loss: 0.0261\n",
            "Epoch 4/100\n",
            "30/30 [==============================] - 0s 15ms/step - loss: 0.0230 - val_loss: 0.0227\n",
            "Epoch 5/100\n",
            "30/30 [==============================] - 0s 15ms/step - loss: 0.0196 - val_loss: 0.0197\n",
            "Epoch 6/100\n",
            "30/30 [==============================] - 0s 14ms/step - loss: 0.0172 - val_loss: 0.0188\n",
            "Epoch 7/100\n",
            "30/30 [==============================] - 0s 15ms/step - loss: 0.0154 - val_loss: 0.0160\n",
            "Epoch 8/100\n",
            "30/30 [==============================] - 0s 14ms/step - loss: 0.0140 - val_loss: 0.0149\n",
            "Epoch 9/100\n",
            "30/30 [==============================] - 0s 15ms/step - loss: 0.0130 - val_loss: 0.0137\n",
            "Epoch 10/100\n",
            "30/30 [==============================] - 0s 14ms/step - loss: 0.0120 - val_loss: 0.0129\n",
            "Epoch 11/100\n",
            "30/30 [==============================] - 0s 15ms/step - loss: 0.0113 - val_loss: 0.0122\n",
            "Epoch 12/100\n",
            "30/30 [==============================] - 0s 13ms/step - loss: 0.0107 - val_loss: 0.0118\n",
            "Epoch 13/100\n",
            "30/30 [==============================] - 0s 14ms/step - loss: 0.0103 - val_loss: 0.0120\n",
            "Epoch 14/100\n",
            "30/30 [==============================] - 0s 15ms/step - loss: 0.0097 - val_loss: 0.0106\n",
            "Epoch 15/100\n",
            "30/30 [==============================] - 0s 14ms/step - loss: 0.0093 - val_loss: 0.0106\n",
            "Epoch 16/100\n",
            "30/30 [==============================] - 0s 14ms/step - loss: 0.0089 - val_loss: 0.0098\n",
            "Epoch 17/100\n",
            "30/30 [==============================] - 0s 13ms/step - loss: 0.0085 - val_loss: 0.0095\n",
            "Epoch 18/100\n",
            "30/30 [==============================] - 0s 14ms/step - loss: 0.0081 - val_loss: 0.0096\n",
            "Epoch 19/100\n",
            "30/30 [==============================] - 0s 14ms/step - loss: 0.0078 - val_loss: 0.0089\n",
            "Epoch 20/100\n",
            "30/30 [==============================] - 0s 15ms/step - loss: 0.0076 - val_loss: 0.0084\n",
            "Epoch 21/100\n",
            "30/30 [==============================] - 0s 16ms/step - loss: 0.0073 - val_loss: 0.0091\n",
            "Epoch 22/100\n",
            "30/30 [==============================] - 1s 23ms/step - loss: 0.0070 - val_loss: 0.0079\n",
            "Epoch 23/100\n",
            "30/30 [==============================] - 1s 22ms/step - loss: 0.0069 - val_loss: 0.0077\n",
            "Epoch 24/100\n",
            "30/30 [==============================] - 1s 23ms/step - loss: 0.0066 - val_loss: 0.0074\n",
            "Epoch 25/100\n",
            "30/30 [==============================] - 1s 24ms/step - loss: 0.0063 - val_loss: 0.0078\n",
            "Epoch 26/100\n",
            "30/30 [==============================] - 0s 15ms/step - loss: 0.0061 - val_loss: 0.0071\n",
            "Epoch 27/100\n",
            "30/30 [==============================] - 0s 14ms/step - loss: 0.0063 - val_loss: 0.0068\n",
            "Epoch 28/100\n",
            "30/30 [==============================] - 0s 14ms/step - loss: 0.0058 - val_loss: 0.0073\n",
            "Epoch 29/100\n",
            "30/30 [==============================] - 0s 14ms/step - loss: 0.0055 - val_loss: 0.0064\n",
            "Epoch 30/100\n",
            "30/30 [==============================] - 0s 16ms/step - loss: 0.0055 - val_loss: 0.0065\n",
            "Epoch 31/100\n",
            "30/30 [==============================] - 0s 14ms/step - loss: 0.0052 - val_loss: 0.0077\n",
            "Epoch 32/100\n",
            "30/30 [==============================] - 0s 15ms/step - loss: 0.0053 - val_loss: 0.0060\n",
            "Epoch 33/100\n",
            "30/30 [==============================] - 0s 14ms/step - loss: 0.0049 - val_loss: 0.0058\n",
            "Epoch 34/100\n",
            "30/30 [==============================] - 0s 14ms/step - loss: 0.0048 - val_loss: 0.0057\n",
            "Epoch 35/100\n",
            "30/30 [==============================] - 0s 14ms/step - loss: 0.0046 - val_loss: 0.0059\n",
            "Epoch 36/100\n",
            "30/30 [==============================] - 0s 14ms/step - loss: 0.0045 - val_loss: 0.0054\n",
            "Epoch 37/100\n",
            "30/30 [==============================] - 0s 15ms/step - loss: 0.0045 - val_loss: 0.0062\n",
            "Epoch 38/100\n",
            "30/30 [==============================] - 0s 14ms/step - loss: 0.0043 - val_loss: 0.0053\n",
            "Epoch 39/100\n",
            "30/30 [==============================] - 0s 15ms/step - loss: 0.0042 - val_loss: 0.0051\n",
            "Epoch 40/100\n",
            "30/30 [==============================] - 0s 14ms/step - loss: 0.0042 - val_loss: 0.0050\n",
            "Epoch 41/100\n",
            "30/30 [==============================] - 0s 14ms/step - loss: 0.0041 - val_loss: 0.0050\n",
            "Epoch 42/100\n",
            "30/30 [==============================] - 0s 14ms/step - loss: 0.0040 - val_loss: 0.0049\n",
            "Epoch 43/100\n",
            "30/30 [==============================] - 0s 15ms/step - loss: 0.0039 - val_loss: 0.0048\n",
            "Epoch 44/100\n",
            "30/30 [==============================] - 0s 15ms/step - loss: 0.0037 - val_loss: 0.0047\n",
            "Epoch 45/100\n",
            "30/30 [==============================] - 0s 14ms/step - loss: 0.0037 - val_loss: 0.0047\n",
            "Epoch 46/100\n",
            "30/30 [==============================] - 0s 14ms/step - loss: 0.0038 - val_loss: 0.0045\n",
            "Epoch 47/100\n",
            "30/30 [==============================] - 0s 14ms/step - loss: 0.0037 - val_loss: 0.0046\n",
            "Epoch 48/100\n",
            "30/30 [==============================] - 0s 16ms/step - loss: 0.0034 - val_loss: 0.0047\n",
            "Epoch 49/100\n",
            "30/30 [==============================] - 1s 22ms/step - loss: 0.0036 - val_loss: 0.0051\n",
            "Epoch 50/100\n",
            "30/30 [==============================] - 1s 22ms/step - loss: 0.0034 - val_loss: 0.0042\n",
            "Epoch 51/100\n",
            "30/30 [==============================] - 1s 23ms/step - loss: 0.0033 - val_loss: 0.0059\n",
            "Epoch 52/100\n",
            "30/30 [==============================] - 1s 23ms/step - loss: 0.0033 - val_loss: 0.0043\n",
            "Epoch 53/100\n",
            "30/30 [==============================] - 0s 14ms/step - loss: 0.0032 - val_loss: 0.0042\n",
            "Epoch 54/100\n",
            "30/30 [==============================] - 0s 15ms/step - loss: 0.0032 - val_loss: 0.0041\n",
            "Epoch 55/100\n",
            "30/30 [==============================] - 0s 14ms/step - loss: 0.0032 - val_loss: 0.0040\n",
            "Epoch 56/100\n",
            "30/30 [==============================] - 0s 14ms/step - loss: 0.0030 - val_loss: 0.0045\n",
            "Epoch 57/100\n",
            "30/30 [==============================] - 0s 14ms/step - loss: 0.0030 - val_loss: 0.0048\n",
            "Epoch 58/100\n",
            "30/30 [==============================] - 0s 14ms/step - loss: 0.0030 - val_loss: 0.0039\n",
            "Epoch 59/100\n",
            "30/30 [==============================] - 0s 15ms/step - loss: 0.0029 - val_loss: 0.0046\n",
            "Epoch 60/100\n",
            "30/30 [==============================] - 0s 14ms/step - loss: 0.0029 - val_loss: 0.0041\n",
            "Epoch 61/100\n",
            "30/30 [==============================] - 0s 15ms/step - loss: 0.0029 - val_loss: 0.0039\n",
            "Epoch 62/100\n",
            "30/30 [==============================] - 0s 15ms/step - loss: 0.0028 - val_loss: 0.0039\n",
            "Epoch 63/100\n",
            "30/30 [==============================] - 0s 15ms/step - loss: 0.0027 - val_loss: 0.0039\n"
          ]
        },
        {
          "output_type": "display_data",
          "data": {
            "text/plain": [
              "<Figure size 640x480 with 1 Axes>"
            ],
            "image/png": "[encoded data removed]"
          },
          "metadata": {}
        }
      ]
    },
    {
      "cell_type": "markdown",
      "source": [
        "Ahora vemos que el gráfico muestra que el modelo ha aprendido patrones de manera efectiva y ha evitado el sobreajuste gracias a la detención temprana. Obtenemos así un buen resultado."
      ],
      "metadata": {
        "id": "Djp-kbx67-wQ"
      }
    },
    {
      "cell_type": "code",
      "source": [
        "# Evaluación del modelo\n",
        "test_loss = model_simple_rnn_regularized.evaluate(X_test, y_test)\n",
        "print(\"Test Loss:\", test_loss)\n"
      ],
      "metadata": {
        "colab": {
          "base_uri": "https://localhost:8080/"
        },
        "id": "l4JLymwHbj7_",
        "outputId": "01e17951-173a-4d64-f559-0abe16e3011d"
      },
      "execution_count": 78,
      "outputs": [
        {
          "output_type": "stream",
          "name": "stdout",
          "text": [
            "3/3 [==============================] - 0s 8ms/step - loss: 0.1552\n",
            "Test Loss: 0.1552405208349228\n"
          ]
        }
      ]
    },
    {
      "cell_type": "markdown",
      "metadata": {
        "id": "lVLvqJsqYPr3"
      },
      "source": [
        "**LTSM de arquitectura simple**"
      ]
    },
    {
      "cell_type": "markdown",
      "source": [
        "Las LSTM son una variante avanzada de las redes neuronales recurrentes (RNN) diseñadas para procesar y predecir secuencias de datos. En comparación con las RNN tradicionales, las LSTM utilizan compuertas (gates) para regular el flujo de información a lo largo de la secuencia. Estas compuertas incluyen una compuerta de olvido, una de entrada y una de salida, lo que les permite retener información a largo plazo y capturar dependencias temporales complejas en los datos secuenciales. Además, las LSTM están diseñadas para abordar el problema del desvanecimiento del gradiente, que puede afectar el entrenamiento de las RNN tradicionales.\n",
        "\n",
        "El desvanecimiento del gradiente puede hacer que las capas profundas de una red neuronal aprendan más lentamente o incluso se estanquen en el aprendizaje, lo que afecta negativamente el rendimiento del modelo. Para abordar este problema, se han desarrollado diversas técnicas, como el uso de funciones de activación especiales (como ReLU en lugar de sigmoides), la normalización de lotes y el uso de arquitecturas de red más avanzadas como las LSTM y las GRU. Estas técnicas ayudan a mitigar el desvanecimiento del gradiente y permiten un entrenamiento más efectivo de redes neuronales profundas."
      ],
      "metadata": {
        "id": "OGi_AA0WQMml"
      }
    },
    {
      "cell_type": "code",
      "execution_count": 59,
      "metadata": {
        "id": "w0WauXkVPe4V",
        "colab": {
          "base_uri": "https://localhost:8080/",
          "height": 1000
        },
        "outputId": "649c4890-badc-47aa-eb57-25d9f95afeb6"
      },
      "outputs": [
        {
          "output_type": "stream",
          "name": "stdout",
          "text": [
            "Epoch 1/100\n",
            "30/30 [==============================] - 3s 47ms/step - loss: 0.0436 - val_loss: 0.0217\n",
            "Epoch 2/100\n",
            "30/30 [==============================] - 1s 37ms/step - loss: 0.0053 - val_loss: 0.0146\n",
            "Epoch 3/100\n",
            "30/30 [==============================] - 1s 29ms/step - loss: 0.0045 - val_loss: 0.0133\n",
            "Epoch 4/100\n",
            "30/30 [==============================] - 1s 24ms/step - loss: 0.0044 - val_loss: 0.0143\n",
            "Epoch 5/100\n",
            "30/30 [==============================] - 1s 24ms/step - loss: 0.0043 - val_loss: 0.0119\n",
            "Epoch 6/100\n",
            "30/30 [==============================] - 1s 24ms/step - loss: 0.0041 - val_loss: 0.0126\n",
            "Epoch 7/100\n",
            "30/30 [==============================] - 1s 24ms/step - loss: 0.0041 - val_loss: 0.0121\n",
            "Epoch 8/100\n",
            "30/30 [==============================] - 1s 24ms/step - loss: 0.0040 - val_loss: 0.0106\n",
            "Epoch 9/100\n",
            "30/30 [==============================] - 1s 24ms/step - loss: 0.0038 - val_loss: 0.0096\n",
            "Epoch 10/100\n",
            "30/30 [==============================] - 1s 25ms/step - loss: 0.0036 - val_loss: 0.0084\n",
            "Epoch 11/100\n",
            "30/30 [==============================] - 1s 24ms/step - loss: 0.0035 - val_loss: 0.0081\n",
            "Epoch 12/100\n",
            "30/30 [==============================] - 1s 23ms/step - loss: 0.0034 - val_loss: 0.0078\n",
            "Epoch 13/100\n",
            "30/30 [==============================] - 1s 24ms/step - loss: 0.0033 - val_loss: 0.0072\n",
            "Epoch 14/100\n",
            "30/30 [==============================] - 1s 25ms/step - loss: 0.0033 - val_loss: 0.0074\n",
            "Epoch 15/100\n",
            "30/30 [==============================] - 1s 25ms/step - loss: 0.0032 - val_loss: 0.0084\n",
            "Epoch 16/100\n",
            "30/30 [==============================] - 1s 26ms/step - loss: 0.0032 - val_loss: 0.0070\n",
            "Epoch 17/100\n",
            "30/30 [==============================] - 1s 38ms/step - loss: 0.0031 - val_loss: 0.0069\n",
            "Epoch 18/100\n",
            "30/30 [==============================] - 1s 38ms/step - loss: 0.0030 - val_loss: 0.0059\n",
            "Epoch 19/100\n",
            "30/30 [==============================] - 1s 28ms/step - loss: 0.0028 - val_loss: 0.0056\n",
            "Epoch 20/100\n",
            "30/30 [==============================] - 1s 24ms/step - loss: 0.0028 - val_loss: 0.0056\n",
            "Epoch 21/100\n",
            "30/30 [==============================] - 1s 23ms/step - loss: 0.0027 - val_loss: 0.0052\n",
            "Epoch 22/100\n",
            "30/30 [==============================] - 1s 24ms/step - loss: 0.0026 - val_loss: 0.0051\n",
            "Epoch 23/100\n",
            "30/30 [==============================] - 1s 24ms/step - loss: 0.0025 - val_loss: 0.0049\n",
            "Epoch 24/100\n",
            "30/30 [==============================] - 1s 24ms/step - loss: 0.0023 - val_loss: 0.0049\n",
            "Epoch 25/100\n",
            "30/30 [==============================] - 1s 23ms/step - loss: 0.0022 - val_loss: 0.0042\n",
            "Epoch 26/100\n",
            "30/30 [==============================] - 1s 23ms/step - loss: 0.0020 - val_loss: 0.0042\n",
            "Epoch 27/100\n",
            "30/30 [==============================] - 1s 23ms/step - loss: 0.0019 - val_loss: 0.0049\n",
            "Epoch 28/100\n",
            "30/30 [==============================] - 1s 23ms/step - loss: 0.0019 - val_loss: 0.0042\n",
            "Epoch 29/100\n",
            "30/30 [==============================] - 1s 24ms/step - loss: 0.0018 - val_loss: 0.0041\n",
            "Epoch 30/100\n",
            "30/30 [==============================] - 1s 24ms/step - loss: 0.0017 - val_loss: 0.0044\n",
            "Epoch 31/100\n",
            "30/30 [==============================] - 1s 23ms/step - loss: 0.0017 - val_loss: 0.0036\n",
            "Epoch 32/100\n",
            "30/30 [==============================] - 1s 23ms/step - loss: 0.0016 - val_loss: 0.0039\n",
            "Epoch 33/100\n",
            "30/30 [==============================] - 1s 34ms/step - loss: 0.0016 - val_loss: 0.0039\n",
            "Epoch 34/100\n",
            "30/30 [==============================] - 1s 35ms/step - loss: 0.0016 - val_loss: 0.0031\n",
            "Epoch 35/100\n",
            "30/30 [==============================] - 1s 36ms/step - loss: 0.0015 - val_loss: 0.0031\n",
            "Epoch 36/100\n",
            "30/30 [==============================] - 1s 24ms/step - loss: 0.0014 - val_loss: 0.0032\n",
            "Epoch 37/100\n",
            "30/30 [==============================] - 1s 24ms/step - loss: 0.0014 - val_loss: 0.0030\n",
            "Epoch 38/100\n",
            "30/30 [==============================] - 1s 24ms/step - loss: 0.0014 - val_loss: 0.0037\n",
            "Epoch 39/100\n",
            "30/30 [==============================] - 1s 24ms/step - loss: 0.0014 - val_loss: 0.0038\n",
            "Epoch 40/100\n",
            "30/30 [==============================] - 1s 24ms/step - loss: 0.0015 - val_loss: 0.0029\n",
            "Epoch 41/100\n",
            "30/30 [==============================] - 1s 23ms/step - loss: 0.0014 - val_loss: 0.0030\n",
            "Epoch 42/100\n",
            "30/30 [==============================] - 1s 24ms/step - loss: 0.0013 - val_loss: 0.0031\n",
            "Epoch 43/100\n",
            "30/30 [==============================] - 1s 24ms/step - loss: 0.0013 - val_loss: 0.0031\n",
            "Epoch 44/100\n",
            "30/30 [==============================] - 1s 23ms/step - loss: 0.0014 - val_loss: 0.0031\n",
            "Epoch 45/100\n",
            "30/30 [==============================] - 1s 24ms/step - loss: 0.0013 - val_loss: 0.0033\n",
            "Epoch 46/100\n",
            "30/30 [==============================] - 1s 23ms/step - loss: 0.0013 - val_loss: 0.0028\n",
            "Epoch 47/100\n",
            "30/30 [==============================] - 1s 24ms/step - loss: 0.0013 - val_loss: 0.0027\n",
            "Epoch 48/100\n",
            "30/30 [==============================] - 1s 24ms/step - loss: 0.0013 - val_loss: 0.0029\n",
            "Epoch 49/100\n",
            "30/30 [==============================] - 1s 28ms/step - loss: 0.0014 - val_loss: 0.0026\n",
            "Epoch 50/100\n",
            "30/30 [==============================] - 1s 38ms/step - loss: 0.0014 - val_loss: 0.0030\n",
            "Epoch 51/100\n",
            "30/30 [==============================] - 1s 38ms/step - loss: 0.0013 - val_loss: 0.0026\n",
            "Epoch 52/100\n",
            "30/30 [==============================] - 1s 26ms/step - loss: 0.0013 - val_loss: 0.0025\n",
            "Epoch 53/100\n",
            "30/30 [==============================] - 1s 24ms/step - loss: 0.0013 - val_loss: 0.0025\n",
            "Epoch 54/100\n",
            "30/30 [==============================] - 1s 24ms/step - loss: 0.0013 - val_loss: 0.0029\n",
            "Epoch 55/100\n",
            "30/30 [==============================] - 1s 24ms/step - loss: 0.0013 - val_loss: 0.0030\n",
            "Epoch 56/100\n",
            "30/30 [==============================] - 1s 24ms/step - loss: 0.0012 - val_loss: 0.0025\n",
            "Epoch 57/100\n",
            "30/30 [==============================] - 1s 23ms/step - loss: 0.0013 - val_loss: 0.0025\n",
            "Epoch 58/100\n",
            "30/30 [==============================] - 1s 24ms/step - loss: 0.0012 - val_loss: 0.0028\n",
            "Epoch 59/100\n",
            "30/30 [==============================] - 1s 24ms/step - loss: 0.0013 - val_loss: 0.0023\n",
            "Epoch 60/100\n",
            "30/30 [==============================] - 1s 24ms/step - loss: 0.0013 - val_loss: 0.0025\n",
            "Epoch 61/100\n",
            "30/30 [==============================] - 1s 23ms/step - loss: 0.0013 - val_loss: 0.0022\n",
            "Epoch 62/100\n",
            "30/30 [==============================] - 1s 24ms/step - loss: 0.0013 - val_loss: 0.0027\n",
            "Epoch 63/100\n",
            "30/30 [==============================] - 1s 24ms/step - loss: 0.0013 - val_loss: 0.0023\n",
            "Epoch 64/100\n",
            "30/30 [==============================] - 1s 23ms/step - loss: 0.0012 - val_loss: 0.0024\n",
            "Epoch 65/100\n",
            "30/30 [==============================] - 1s 25ms/step - loss: 0.0012 - val_loss: 0.0028\n",
            "Epoch 66/100\n",
            "30/30 [==============================] - 1s 37ms/step - loss: 0.0013 - val_loss: 0.0026\n",
            "Epoch 67/100\n",
            "30/30 [==============================] - 1s 37ms/step - loss: 0.0012 - val_loss: 0.0025\n",
            "Epoch 68/100\n",
            "30/30 [==============================] - 1s 35ms/step - loss: 0.0012 - val_loss: 0.0023\n",
            "Epoch 69/100\n",
            "30/30 [==============================] - 1s 24ms/step - loss: 0.0012 - val_loss: 0.0022\n",
            "Epoch 70/100\n",
            "30/30 [==============================] - 1s 24ms/step - loss: 0.0012 - val_loss: 0.0022\n",
            "Epoch 71/100\n",
            "30/30 [==============================] - 1s 24ms/step - loss: 0.0012 - val_loss: 0.0025\n",
            "Epoch 72/100\n",
            "30/30 [==============================] - 1s 24ms/step - loss: 0.0012 - val_loss: 0.0025\n",
            "Epoch 73/100\n",
            "30/30 [==============================] - 1s 24ms/step - loss: 0.0012 - val_loss: 0.0025\n",
            "Epoch 74/100\n",
            "30/30 [==============================] - 1s 24ms/step - loss: 0.0012 - val_loss: 0.0024\n",
            "Epoch 75/100\n",
            "30/30 [==============================] - 1s 24ms/step - loss: 0.0012 - val_loss: 0.0022\n",
            "Epoch 76/100\n",
            "30/30 [==============================] - 1s 25ms/step - loss: 0.0012 - val_loss: 0.0026\n",
            "Epoch 77/100\n",
            "30/30 [==============================] - 1s 24ms/step - loss: 0.0012 - val_loss: 0.0021\n",
            "Epoch 78/100\n",
            "30/30 [==============================] - 1s 25ms/step - loss: 0.0012 - val_loss: 0.0022\n",
            "Epoch 79/100\n",
            "30/30 [==============================] - 1s 24ms/step - loss: 0.0012 - val_loss: 0.0028\n",
            "Epoch 80/100\n",
            "30/30 [==============================] - 1s 23ms/step - loss: 0.0012 - val_loss: 0.0025\n",
            "Epoch 81/100\n",
            "30/30 [==============================] - 1s 24ms/step - loss: 0.0013 - val_loss: 0.0024\n",
            "Epoch 82/100\n",
            "30/30 [==============================] - 1s 30ms/step - loss: 0.0013 - val_loss: 0.0021\n",
            "Epoch 83/100\n",
            "30/30 [==============================] - 2s 53ms/step - loss: 0.0012 - val_loss: 0.0029\n",
            "Epoch 84/100\n",
            "30/30 [==============================] - 1s 44ms/step - loss: 0.0012 - val_loss: 0.0022\n",
            "Epoch 85/100\n",
            "30/30 [==============================] - 1s 26ms/step - loss: 0.0012 - val_loss: 0.0021\n",
            "Epoch 86/100\n",
            "30/30 [==============================] - 1s 24ms/step - loss: 0.0012 - val_loss: 0.0024\n",
            "Epoch 87/100\n",
            "30/30 [==============================] - 1s 25ms/step - loss: 0.0012 - val_loss: 0.0022\n",
            "Epoch 88/100\n",
            "30/30 [==============================] - 1s 25ms/step - loss: 0.0012 - val_loss: 0.0021\n",
            "Epoch 89/100\n",
            "30/30 [==============================] - 1s 24ms/step - loss: 0.0011 - val_loss: 0.0024\n",
            "Epoch 90/100\n",
            "30/30 [==============================] - 1s 24ms/step - loss: 0.0012 - val_loss: 0.0020\n",
            "Epoch 91/100\n",
            "30/30 [==============================] - 1s 24ms/step - loss: 0.0013 - val_loss: 0.0021\n",
            "Epoch 92/100\n",
            "30/30 [==============================] - 1s 24ms/step - loss: 0.0011 - val_loss: 0.0027\n",
            "Epoch 93/100\n",
            "30/30 [==============================] - 1s 23ms/step - loss: 0.0012 - val_loss: 0.0024\n",
            "Epoch 94/100\n",
            "30/30 [==============================] - 1s 24ms/step - loss: 0.0011 - val_loss: 0.0021\n",
            "Epoch 95/100\n",
            "30/30 [==============================] - 1s 43ms/step - loss: 0.0011 - val_loss: 0.0025\n",
            "Epoch 96/100\n",
            "30/30 [==============================] - 1s 45ms/step - loss: 0.0012 - val_loss: 0.0028\n",
            "Epoch 97/100\n",
            "30/30 [==============================] - 1s 36ms/step - loss: 0.0012 - val_loss: 0.0020\n",
            "Epoch 98/100\n",
            "30/30 [==============================] - 1s 36ms/step - loss: 0.0012 - val_loss: 0.0021\n",
            "Epoch 99/100\n",
            "30/30 [==============================] - 1s 30ms/step - loss: 0.0011 - val_loss: 0.0021\n",
            "Epoch 100/100\n",
            "30/30 [==============================] - 1s 23ms/step - loss: 0.0011 - val_loss: 0.0021\n",
            "Model: \"sequential_29\"\n",
            "_________________________________________________________________\n",
            " Layer (type)                Output Shape              Param #   \n",
            "=================================================================\n",
            " lstm_41 (LSTM)              (None, 32)                4352      \n",
            "                                                                 \n",
            " dense_31 (Dense)            (None, 1)                 33        \n",
            "                                                                 \n",
            "=================================================================\n",
            "Total params: 4385 (17.13 KB)\n",
            "Trainable params: 4385 (17.13 KB)\n",
            "Non-trainable params: 0 (0.00 Byte)\n",
            "_________________________________________________________________\n"
          ]
        },
        {
          "output_type": "display_data",
          "data": {
            "text/plain": [
              "<Figure size 640x480 with 1 Axes>"
            ],
            "image/png": "[encoded data removed]"
          },
          "metadata": {}
        }
      ],
      "source": [
        "from keras.layers import LSTM\n",
        "\n",
        "# Modelo LSTM sencillo\n",
        "model_lstm = Sequential([\n",
        "    LSTM(units=32, activation='relu', input_shape=(X_train.shape[1], 1)),\n",
        "    Dense(units=1)\n",
        "])\n",
        "\n",
        "# Compilar el modelo\n",
        "model_lstm.compile(optimizer='adam', loss='mean_squared_error')\n",
        "\n",
        "# Entrenar el modelo\n",
        "history_lstm = model_lstm.fit(X_train, y_train, epochs=100, batch_size=32, validation_data=(X_val, y_val))\n",
        "\n",
        "model_lstm.summary()\n",
        "\n",
        "# Graficar la pérdida durante el entrenamiento para LSTM\n",
        "plt.plot(history_lstm.history['loss'], label='Training Loss')\n",
        "plt.plot(history_lstm.history['val_loss'], label='Validation Loss')\n",
        "plt.title('Training and Validation Loss - LSTM')\n",
        "plt.xlabel('Epochs')\n",
        "plt.ylabel('Loss')\n",
        "plt.legend()\n",
        "plt.show()\n"
      ]
    },
    {
      "cell_type": "markdown",
      "source": [
        "Al comienzo del entrenamiento, las pérdidas de entrenamiento y validación disminuyen rápidamente, lo que sugiere que el modelo está aprendiendo rápidamente los patrones en los datos de entrenamiento.\n",
        "\n",
        "Posterior al descenso inicial, ambas curvas de pérdida se estabilizan. La convergencia cercana entre la pérdida de entrenamiento y la de validación indica una buena capacidad de generalización del modelo.\n",
        "\n",
        "La pérdida relativamente baja señala que el modelo está haciendo buenas predicciones, lo que sugiere una efectiva capacidad de aprendizaje.\n",
        "\n",
        "Como nota, debemos estar atentos a signos de sobreajuste, especialmente si la pérdida de validación comienza a aumentar en comparación con la pérdida de entrenamiento. Por ello, vamos a explorar diferentes arquitecturas, hiperparámetros y técnicas de regularización para mejorar aún más el rendimiento del modelo."
      ],
      "metadata": {
        "id": "c250C4cYDNux"
      }
    },
    {
      "cell_type": "code",
      "source": [
        "# Evaluación del modelo en el conjunto de prueba\n",
        "test_loss_lstm = model_lstm.evaluate(X_test, y_test)\n",
        "print(\"Test Loss (LSTM):\", test_loss_lstm)\n"
      ],
      "metadata": {
        "colab": {
          "base_uri": "https://localhost:8080/"
        },
        "id": "r6W47VTUbsKW",
        "outputId": "0dd5959f-4bd1-4531-d59d-0f6b4ae22f86"
      },
      "execution_count": 48,
      "outputs": [
        {
          "output_type": "stream",
          "name": "stdout",
          "text": [
            "3/3 [==============================] - 0s 84ms/step - loss: 0.6979\n",
            "Test Loss (LSTM): 0.6979109048843384\n"
          ]
        }
      ]
    },
    {
      "cell_type": "markdown",
      "metadata": {
        "id": "bim2FT-tZfYz"
      },
      "source": [
        "**LTSM mejorado (dropout y EarlyStopping)**"
      ]
    },
    {
      "cell_type": "code",
      "execution_count": 83,
      "metadata": {
        "id": "wML6jCFmzI6K",
        "colab": {
          "base_uri": "https://localhost:8080/",
          "height": 1000
        },
        "outputId": "f4b8f678-eae0-4f1c-b8f7-f53505afede8"
      },
      "outputs": [
        {
          "output_type": "stream",
          "name": "stdout",
          "text": [
            "Epoch 1/100\n",
            "30/30 [==============================] - 11s 144ms/step - loss: 0.0397 - val_loss: 0.0290\n",
            "Epoch 2/100\n",
            "30/30 [==============================] - 4s 137ms/step - loss: 0.0112 - val_loss: 0.0286\n",
            "Epoch 3/100\n",
            "30/30 [==============================] - 3s 99ms/step - loss: 0.0109 - val_loss: 0.0200\n",
            "Epoch 4/100\n",
            "30/30 [==============================] - 3s 99ms/step - loss: 0.0089 - val_loss: 0.0151\n",
            "Epoch 5/100\n",
            "30/30 [==============================] - 3s 100ms/step - loss: 0.0088 - val_loss: 0.0129\n",
            "Epoch 6/100\n",
            "30/30 [==============================] - 4s 138ms/step - loss: 0.0100 - val_loss: 0.0159\n",
            "Epoch 7/100\n",
            "30/30 [==============================] - 3s 99ms/step - loss: 0.0087 - val_loss: 0.0096\n",
            "Epoch 8/100\n",
            "30/30 [==============================] - 3s 100ms/step - loss: 0.0078 - val_loss: 0.0122\n",
            "Epoch 9/100\n",
            "30/30 [==============================] - 3s 100ms/step - loss: 0.0072 - val_loss: 0.0152\n",
            "Epoch 10/100\n",
            "30/30 [==============================] - 4s 136ms/step - loss: 0.0072 - val_loss: 0.0115\n",
            "Epoch 11/100\n",
            "30/30 [==============================] - 3s 99ms/step - loss: 0.0065 - val_loss: 0.0083\n",
            "Epoch 12/100\n",
            "30/30 [==============================] - 3s 98ms/step - loss: 0.0065 - val_loss: 0.0137\n",
            "Epoch 13/100\n",
            "30/30 [==============================] - 3s 99ms/step - loss: 0.0065 - val_loss: 0.0086\n",
            "Epoch 14/100\n",
            "30/30 [==============================] - 4s 136ms/step - loss: 0.0058 - val_loss: 0.0066\n",
            "Epoch 15/100\n",
            "30/30 [==============================] - 3s 99ms/step - loss: 0.0059 - val_loss: 0.0061\n",
            "Epoch 16/100\n",
            "30/30 [==============================] - 3s 100ms/step - loss: 0.0057 - val_loss: 0.0126\n",
            "Epoch 17/100\n",
            "30/30 [==============================] - 3s 101ms/step - loss: 0.0059 - val_loss: 0.0080\n",
            "Epoch 18/100\n",
            "30/30 [==============================] - 4s 132ms/step - loss: 0.0048 - val_loss: 0.0089\n",
            "Epoch 19/100\n",
            "30/30 [==============================] - 3s 100ms/step - loss: 0.0052 - val_loss: 0.0083\n",
            "Epoch 20/100\n",
            "30/30 [==============================] - 3s 99ms/step - loss: 0.0048 - val_loss: 0.0068\n",
            "Epoch 21/100\n",
            "30/30 [==============================] - 3s 109ms/step - loss: 0.0048 - val_loss: 0.0102\n",
            "Epoch 22/100\n",
            "30/30 [==============================] - 4s 124ms/step - loss: 0.0048 - val_loss: 0.0053\n",
            "Epoch 23/100\n",
            "30/30 [==============================] - 3s 101ms/step - loss: 0.0046 - val_loss: 0.0095\n",
            "Epoch 24/100\n",
            "30/30 [==============================] - 3s 102ms/step - loss: 0.0043 - val_loss: 0.0057\n",
            "Epoch 25/100\n",
            "30/30 [==============================] - 4s 120ms/step - loss: 0.0043 - val_loss: 0.0053\n",
            "Epoch 26/100\n",
            "30/30 [==============================] - 3s 115ms/step - loss: 0.0040 - val_loss: 0.0049\n",
            "Epoch 27/100\n",
            "30/30 [==============================] - 3s 101ms/step - loss: 0.0044 - val_loss: 0.0045\n",
            "Epoch 28/100\n",
            "30/30 [==============================] - 3s 100ms/step - loss: 0.0044 - val_loss: 0.0070\n",
            "Epoch 29/100\n",
            "30/30 [==============================] - 4s 128ms/step - loss: 0.0040 - val_loss: 0.0056\n",
            "Epoch 30/100\n",
            "30/30 [==============================] - 3s 106ms/step - loss: 0.0041 - val_loss: 0.0061\n",
            "Epoch 31/100\n",
            "30/30 [==============================] - 3s 99ms/step - loss: 0.0041 - val_loss: 0.0065\n",
            "Epoch 32/100\n",
            "30/30 [==============================] - 3s 100ms/step - loss: 0.0041 - val_loss: 0.0048\n",
            "Epoch 33/100\n",
            "30/30 [==============================] - 4s 136ms/step - loss: 0.0036 - val_loss: 0.0044\n",
            "Epoch 34/100\n",
            "30/30 [==============================] - 3s 100ms/step - loss: 0.0040 - val_loss: 0.0047\n",
            "Epoch 35/100\n",
            "30/30 [==============================] - 3s 101ms/step - loss: 0.0041 - val_loss: 0.0080\n",
            "Epoch 36/100\n",
            "30/30 [==============================] - 3s 105ms/step - loss: 0.0036 - val_loss: 0.0055\n",
            "Epoch 37/100\n",
            "30/30 [==============================] - 4s 138ms/step - loss: 0.0036 - val_loss: 0.0038\n",
            "Epoch 38/100\n",
            "30/30 [==============================] - 3s 102ms/step - loss: 0.0035 - val_loss: 0.0037\n",
            "Epoch 39/100\n",
            "30/30 [==============================] - 3s 111ms/step - loss: 0.0043 - val_loss: 0.0040\n",
            "Epoch 40/100\n",
            "30/30 [==============================] - 4s 141ms/step - loss: 0.0036 - val_loss: 0.0045\n",
            "Epoch 41/100\n",
            "30/30 [==============================] - 5s 180ms/step - loss: 0.0034 - val_loss: 0.0040\n",
            "Epoch 42/100\n",
            "30/30 [==============================] - 3s 101ms/step - loss: 0.0040 - val_loss: 0.0040\n",
            "Epoch 43/100\n",
            "30/30 [==============================] - 3s 101ms/step - loss: 0.0034 - val_loss: 0.0054\n",
            "Epoch 44/100\n",
            "26/30 [=========================>....] - ETA: 0s - loss: 0.0034"
          ]
        },
        {
          "output_type": "error",
          "ename": "KeyboardInterrupt",
          "evalue": "",
          "traceback": [
            "\u001b[0;31m---------------------------------------------------------------------------\u001b[0m",
            "\u001b[0;31mKeyboardInterrupt\u001b[0m                         Traceback (most recent call last)",
            "\u001b[0;32m<ipython-input-83-ff8ac51ffead>\u001b[0m in \u001b[0;36m<cell line: 21>\u001b[0;34m()\u001b[0m\n\u001b[1;32m     19\u001b[0m \u001b[0;34m\u001b[0m\u001b[0m\n\u001b[1;32m     20\u001b[0m \u001b[0;31m# Entrenar el modelo LSTM mejorado con EarlyStopping\u001b[0m\u001b[0;34m\u001b[0m\u001b[0;34m\u001b[0m\u001b[0m\n\u001b[0;32m---> 21\u001b[0;31m \u001b[0mhistory_lstm_improved\u001b[0m \u001b[0;34m=\u001b[0m \u001b[0mmodel_lstm_improved\u001b[0m\u001b[0;34m.\u001b[0m\u001b[0mfit\u001b[0m\u001b[0;34m(\u001b[0m\u001b[0mX_train\u001b[0m\u001b[0;34m,\u001b[0m \u001b[0my_train\u001b[0m\u001b[0;34m,\u001b[0m \u001b[0mepochs\u001b[0m\u001b[0;34m=\u001b[0m\u001b[0;36m100\u001b[0m\u001b[0;34m,\u001b[0m \u001b[0mbatch_size\u001b[0m\u001b[0;34m=\u001b[0m\u001b[0;36m32\u001b[0m\u001b[0;34m,\u001b[0m \u001b[0mvalidation_data\u001b[0m\u001b[0;34m=\u001b[0m\u001b[0;34m(\u001b[0m\u001b[0mX_val\u001b[0m\u001b[0;34m,\u001b[0m \u001b[0my_val\u001b[0m\u001b[0;34m)\u001b[0m\u001b[0;34m,\u001b[0m \u001b[0mcallbacks\u001b[0m\u001b[0;34m=\u001b[0m\u001b[0;34m[\u001b[0m\u001b[0mearly_stopping\u001b[0m\u001b[0;34m]\u001b[0m\u001b[0;34m)\u001b[0m\u001b[0;34m\u001b[0m\u001b[0;34m\u001b[0m\u001b[0m\n\u001b[0m\u001b[1;32m     22\u001b[0m \u001b[0;34m\u001b[0m\u001b[0m\n\u001b[1;32m     23\u001b[0m \u001b[0;31m# Visualizar modelo\u001b[0m\u001b[0;34m\u001b[0m\u001b[0;34m\u001b[0m\u001b[0m\n",
            "\u001b[0;32m/usr/local/lib/python3.10/dist-packages/keras/src/utils/traceback_utils.py\u001b[0m in \u001b[0;36merror_handler\u001b[0;34m(*args, **kwargs)\u001b[0m\n\u001b[1;32m     63\u001b[0m         \u001b[0mfiltered_tb\u001b[0m \u001b[0;34m=\u001b[0m \u001b[0;32mNone\u001b[0m\u001b[0;34m\u001b[0m\u001b[0;34m\u001b[0m\u001b[0m\n\u001b[1;32m     64\u001b[0m         \u001b[0;32mtry\u001b[0m\u001b[0;34m:\u001b[0m\u001b[0;34m\u001b[0m\u001b[0;34m\u001b[0m\u001b[0m\n\u001b[0;32m---> 65\u001b[0;31m             \u001b[0;32mreturn\u001b[0m \u001b[0mfn\u001b[0m\u001b[0;34m(\u001b[0m\u001b[0;34m*\u001b[0m\u001b[0margs\u001b[0m\u001b[0;34m,\u001b[0m \u001b[0;34m**\u001b[0m\u001b[0mkwargs\u001b[0m\u001b[0;34m)\u001b[0m\u001b[0;34m\u001b[0m\u001b[0;34m\u001b[0m\u001b[0m\n\u001b[0m\u001b[1;32m     66\u001b[0m         \u001b[0;32mexcept\u001b[0m \u001b[0mException\u001b[0m \u001b[0;32mas\u001b[0m \u001b[0me\u001b[0m\u001b[0;34m:\u001b[0m\u001b[0;34m\u001b[0m\u001b[0;34m\u001b[0m\u001b[0m\n\u001b[1;32m     67\u001b[0m             \u001b[0mfiltered_tb\u001b[0m \u001b[0;34m=\u001b[0m \u001b[0m_process_traceback_frames\u001b[0m\u001b[0;34m(\u001b[0m\u001b[0me\u001b[0m\u001b[0;34m.\u001b[0m\u001b[0m__traceback__\u001b[0m\u001b[0;34m)\u001b[0m\u001b[0;34m\u001b[0m\u001b[0;34m\u001b[0m\u001b[0m\n",
            "\u001b[0;32m/usr/local/lib/python3.10/dist-packages/keras/src/engine/training.py\u001b[0m in \u001b[0;36mfit\u001b[0;34m(self, x, y, batch_size, epochs, verbose, callbacks, validation_split, validation_data, shuffle, class_weight, sample_weight, initial_epoch, steps_per_epoch, validation_steps, validation_batch_size, validation_freq, max_queue_size, workers, use_multiprocessing)\u001b[0m\n\u001b[1;32m   1805\u001b[0m                         ):\n\u001b[1;32m   1806\u001b[0m                             \u001b[0mcallbacks\u001b[0m\u001b[0;34m.\u001b[0m\u001b[0mon_train_batch_begin\u001b[0m\u001b[0;34m(\u001b[0m\u001b[0mstep\u001b[0m\u001b[0;34m)\u001b[0m\u001b[0;34m\u001b[0m\u001b[0;34m\u001b[0m\u001b[0m\n\u001b[0;32m-> 1807\u001b[0;31m                             \u001b[0mtmp_logs\u001b[0m \u001b[0;34m=\u001b[0m \u001b[0mself\u001b[0m\u001b[0;34m.\u001b[0m\u001b[0mtrain_function\u001b[0m\u001b[0;34m(\u001b[0m\u001b[0miterator\u001b[0m\u001b[0;34m)\u001b[0m\u001b[0;34m\u001b[0m\u001b[0;34m\u001b[0m\u001b[0m\n\u001b[0m\u001b[1;32m   1808\u001b[0m                             \u001b[0;32mif\u001b[0m \u001b[0mdata_handler\u001b[0m\u001b[0;34m.\u001b[0m\u001b[0mshould_sync\u001b[0m\u001b[0;34m:\u001b[0m\u001b[0;34m\u001b[0m\u001b[0;34m\u001b[0m\u001b[0m\n\u001b[1;32m   1809\u001b[0m                                 \u001b[0mcontext\u001b[0m\u001b[0;34m.\u001b[0m\u001b[0masync_wait\u001b[0m\u001b[0;34m(\u001b[0m\u001b[0;34m)\u001b[0m\u001b[0;34m\u001b[0m\u001b[0;34m\u001b[0m\u001b[0m\n",
            "\u001b[0;32m/usr/local/lib/python3.10/dist-packages/tensorflow/python/util/traceback_utils.py\u001b[0m in \u001b[0;36merror_handler\u001b[0;34m(*args, **kwargs)\u001b[0m\n\u001b[1;32m    148\u001b[0m     \u001b[0mfiltered_tb\u001b[0m \u001b[0;34m=\u001b[0m \u001b[0;32mNone\u001b[0m\u001b[0;34m\u001b[0m\u001b[0;34m\u001b[0m\u001b[0m\n\u001b[1;32m    149\u001b[0m     \u001b[0;32mtry\u001b[0m\u001b[0;34m:\u001b[0m\u001b[0;34m\u001b[0m\u001b[0;34m\u001b[0m\u001b[0m\n\u001b[0;32m--> 150\u001b[0;31m       \u001b[0;32mreturn\u001b[0m \u001b[0mfn\u001b[0m\u001b[0;34m(\u001b[0m\u001b[0;34m*\u001b[0m\u001b[0margs\u001b[0m\u001b[0;34m,\u001b[0m \u001b[0;34m**\u001b[0m\u001b[0mkwargs\u001b[0m\u001b[0;34m)\u001b[0m\u001b[0;34m\u001b[0m\u001b[0;34m\u001b[0m\u001b[0m\n\u001b[0m\u001b[1;32m    151\u001b[0m     \u001b[0;32mexcept\u001b[0m \u001b[0mException\u001b[0m \u001b[0;32mas\u001b[0m \u001b[0me\u001b[0m\u001b[0;34m:\u001b[0m\u001b[0;34m\u001b[0m\u001b[0;34m\u001b[0m\u001b[0m\n\u001b[1;32m    152\u001b[0m       \u001b[0mfiltered_tb\u001b[0m \u001b[0;34m=\u001b[0m \u001b[0m_process_traceback_frames\u001b[0m\u001b[0;34m(\u001b[0m\u001b[0me\u001b[0m\u001b[0;34m.\u001b[0m\u001b[0m__traceback__\u001b[0m\u001b[0;34m)\u001b[0m\u001b[0;34m\u001b[0m\u001b[0;34m\u001b[0m\u001b[0m\n",
            "\u001b[0;32m/usr/local/lib/python3.10/dist-packages/tensorflow/python/eager/polymorphic_function/polymorphic_function.py\u001b[0m in \u001b[0;36m__call__\u001b[0;34m(self, *args, **kwds)\u001b[0m\n\u001b[1;32m    830\u001b[0m \u001b[0;34m\u001b[0m\u001b[0m\n\u001b[1;32m    831\u001b[0m       \u001b[0;32mwith\u001b[0m \u001b[0mOptionalXlaContext\u001b[0m\u001b[0;34m(\u001b[0m\u001b[0mself\u001b[0m\u001b[0;34m.\u001b[0m\u001b[0m_jit_compile\u001b[0m\u001b[0;34m)\u001b[0m\u001b[0;34m:\u001b[0m\u001b[0;34m\u001b[0m\u001b[0;34m\u001b[0m\u001b[0m\n\u001b[0;32m--> 832\u001b[0;31m         \u001b[0mresult\u001b[0m \u001b[0;34m=\u001b[0m \u001b[0mself\u001b[0m\u001b[0;34m.\u001b[0m\u001b[0m_call\u001b[0m\u001b[0;34m(\u001b[0m\u001b[0;34m*\u001b[0m\u001b[0margs\u001b[0m\u001b[0;34m,\u001b[0m \u001b[0;34m**\u001b[0m\u001b[0mkwds\u001b[0m\u001b[0;34m)\u001b[0m\u001b[0;34m\u001b[0m\u001b[0;34m\u001b[0m\u001b[0m\n\u001b[0m\u001b[1;32m    833\u001b[0m \u001b[0;34m\u001b[0m\u001b[0m\n\u001b[1;32m    834\u001b[0m       \u001b[0mnew_tracing_count\u001b[0m \u001b[0;34m=\u001b[0m \u001b[0mself\u001b[0m\u001b[0;34m.\u001b[0m\u001b[0mexperimental_get_tracing_count\u001b[0m\u001b[0;34m(\u001b[0m\u001b[0;34m)\u001b[0m\u001b[0;34m\u001b[0m\u001b[0;34m\u001b[0m\u001b[0m\n",
            "\u001b[0;32m/usr/local/lib/python3.10/dist-packages/tensorflow/python/eager/polymorphic_function/polymorphic_function.py\u001b[0m in \u001b[0;36m_call\u001b[0;34m(self, *args, **kwds)\u001b[0m\n\u001b[1;32m    866\u001b[0m       \u001b[0;31m# In this case we have created variables on the first call, so we run the\u001b[0m\u001b[0;34m\u001b[0m\u001b[0;34m\u001b[0m\u001b[0m\n\u001b[1;32m    867\u001b[0m       \u001b[0;31m# defunned version which is guaranteed to never create variables.\u001b[0m\u001b[0;34m\u001b[0m\u001b[0;34m\u001b[0m\u001b[0m\n\u001b[0;32m--> 868\u001b[0;31m       return tracing_compilation.call_function(\n\u001b[0m\u001b[1;32m    869\u001b[0m           \u001b[0margs\u001b[0m\u001b[0;34m,\u001b[0m \u001b[0mkwds\u001b[0m\u001b[0;34m,\u001b[0m \u001b[0mself\u001b[0m\u001b[0;34m.\u001b[0m\u001b[0m_no_variable_creation_config\u001b[0m\u001b[0;34m\u001b[0m\u001b[0;34m\u001b[0m\u001b[0m\n\u001b[1;32m    870\u001b[0m       )\n",
            "\u001b[0;32m/usr/local/lib/python3.10/dist-packages/tensorflow/python/eager/polymorphic_function/tracing_compilation.py\u001b[0m in \u001b[0;36mcall_function\u001b[0;34m(args, kwargs, tracing_options)\u001b[0m\n\u001b[1;32m    137\u001b[0m   \u001b[0mbound_args\u001b[0m \u001b[0;34m=\u001b[0m \u001b[0mfunction\u001b[0m\u001b[0;34m.\u001b[0m\u001b[0mfunction_type\u001b[0m\u001b[0;34m.\u001b[0m\u001b[0mbind\u001b[0m\u001b[0;34m(\u001b[0m\u001b[0;34m*\u001b[0m\u001b[0margs\u001b[0m\u001b[0;34m,\u001b[0m \u001b[0;34m**\u001b[0m\u001b[0mkwargs\u001b[0m\u001b[0;34m)\u001b[0m\u001b[0;34m\u001b[0m\u001b[0;34m\u001b[0m\u001b[0m\n\u001b[1;32m    138\u001b[0m   \u001b[0mflat_inputs\u001b[0m \u001b[0;34m=\u001b[0m \u001b[0mfunction\u001b[0m\u001b[0;34m.\u001b[0m\u001b[0mfunction_type\u001b[0m\u001b[0;34m.\u001b[0m\u001b[0munpack_inputs\u001b[0m\u001b[0;34m(\u001b[0m\u001b[0mbound_args\u001b[0m\u001b[0;34m)\u001b[0m\u001b[0;34m\u001b[0m\u001b[0;34m\u001b[0m\u001b[0m\n\u001b[0;32m--> 139\u001b[0;31m   return function._call_flat(  # pylint: disable=protected-access\n\u001b[0m\u001b[1;32m    140\u001b[0m       \u001b[0mflat_inputs\u001b[0m\u001b[0;34m,\u001b[0m \u001b[0mcaptured_inputs\u001b[0m\u001b[0;34m=\u001b[0m\u001b[0mfunction\u001b[0m\u001b[0;34m.\u001b[0m\u001b[0mcaptured_inputs\u001b[0m\u001b[0;34m\u001b[0m\u001b[0;34m\u001b[0m\u001b[0m\n\u001b[1;32m    141\u001b[0m   )\n",
            "\u001b[0;32m/usr/local/lib/python3.10/dist-packages/tensorflow/python/eager/polymorphic_function/concrete_function.py\u001b[0m in \u001b[0;36m_call_flat\u001b[0;34m(self, tensor_inputs, captured_inputs)\u001b[0m\n\u001b[1;32m   1321\u001b[0m         and executing_eagerly):\n\u001b[1;32m   1322\u001b[0m       \u001b[0;31m# No tape is watching; skip to running the function.\u001b[0m\u001b[0;34m\u001b[0m\u001b[0;34m\u001b[0m\u001b[0m\n\u001b[0;32m-> 1323\u001b[0;31m       \u001b[0;32mreturn\u001b[0m \u001b[0mself\u001b[0m\u001b[0;34m.\u001b[0m\u001b[0m_inference_function\u001b[0m\u001b[0;34m.\u001b[0m\u001b[0mcall_preflattened\u001b[0m\u001b[0;34m(\u001b[0m\u001b[0margs\u001b[0m\u001b[0;34m)\u001b[0m\u001b[0;34m\u001b[0m\u001b[0;34m\u001b[0m\u001b[0m\n\u001b[0m\u001b[1;32m   1324\u001b[0m     forward_backward = self._select_forward_and_backward_functions(\n\u001b[1;32m   1325\u001b[0m         \u001b[0margs\u001b[0m\u001b[0;34m,\u001b[0m\u001b[0;34m\u001b[0m\u001b[0;34m\u001b[0m\u001b[0m\n",
            "\u001b[0;32m/usr/local/lib/python3.10/dist-packages/tensorflow/python/eager/polymorphic_function/atomic_function.py\u001b[0m in \u001b[0;36mcall_preflattened\u001b[0;34m(self, args)\u001b[0m\n\u001b[1;32m    214\u001b[0m   \u001b[0;32mdef\u001b[0m \u001b[0mcall_preflattened\u001b[0m\u001b[0;34m(\u001b[0m\u001b[0mself\u001b[0m\u001b[0;34m,\u001b[0m \u001b[0margs\u001b[0m\u001b[0;34m:\u001b[0m \u001b[0mSequence\u001b[0m\u001b[0;34m[\u001b[0m\u001b[0mcore\u001b[0m\u001b[0;34m.\u001b[0m\u001b[0mTensor\u001b[0m\u001b[0;34m]\u001b[0m\u001b[0;34m)\u001b[0m \u001b[0;34m->\u001b[0m \u001b[0mAny\u001b[0m\u001b[0;34m:\u001b[0m\u001b[0;34m\u001b[0m\u001b[0;34m\u001b[0m\u001b[0m\n\u001b[1;32m    215\u001b[0m     \u001b[0;34m\"\"\"Calls with flattened tensor inputs and returns the structured output.\"\"\"\u001b[0m\u001b[0;34m\u001b[0m\u001b[0;34m\u001b[0m\u001b[0m\n\u001b[0;32m--> 216\u001b[0;31m     \u001b[0mflat_outputs\u001b[0m \u001b[0;34m=\u001b[0m \u001b[0mself\u001b[0m\u001b[0;34m.\u001b[0m\u001b[0mcall_flat\u001b[0m\u001b[0;34m(\u001b[0m\u001b[0;34m*\u001b[0m\u001b[0margs\u001b[0m\u001b[0;34m)\u001b[0m\u001b[0;34m\u001b[0m\u001b[0;34m\u001b[0m\u001b[0m\n\u001b[0m\u001b[1;32m    217\u001b[0m     \u001b[0;32mreturn\u001b[0m \u001b[0mself\u001b[0m\u001b[0;34m.\u001b[0m\u001b[0mfunction_type\u001b[0m\u001b[0;34m.\u001b[0m\u001b[0mpack_output\u001b[0m\u001b[0;34m(\u001b[0m\u001b[0mflat_outputs\u001b[0m\u001b[0;34m)\u001b[0m\u001b[0;34m\u001b[0m\u001b[0;34m\u001b[0m\u001b[0m\n\u001b[1;32m    218\u001b[0m \u001b[0;34m\u001b[0m\u001b[0m\n",
            "\u001b[0;32m/usr/local/lib/python3.10/dist-packages/tensorflow/python/eager/polymorphic_function/atomic_function.py\u001b[0m in \u001b[0;36mcall_flat\u001b[0;34m(self, *args)\u001b[0m\n\u001b[1;32m    249\u001b[0m         \u001b[0;32mwith\u001b[0m \u001b[0mrecord\u001b[0m\u001b[0;34m.\u001b[0m\u001b[0mstop_recording\u001b[0m\u001b[0;34m(\u001b[0m\u001b[0;34m)\u001b[0m\u001b[0;34m:\u001b[0m\u001b[0;34m\u001b[0m\u001b[0;34m\u001b[0m\u001b[0m\n\u001b[1;32m    250\u001b[0m           \u001b[0;32mif\u001b[0m \u001b[0mself\u001b[0m\u001b[0;34m.\u001b[0m\u001b[0m_bound_context\u001b[0m\u001b[0;34m.\u001b[0m\u001b[0mexecuting_eagerly\u001b[0m\u001b[0;34m(\u001b[0m\u001b[0;34m)\u001b[0m\u001b[0;34m:\u001b[0m\u001b[0;34m\u001b[0m\u001b[0;34m\u001b[0m\u001b[0m\n\u001b[0;32m--> 251\u001b[0;31m             outputs = self._bound_context.call_function(\n\u001b[0m\u001b[1;32m    252\u001b[0m                 \u001b[0mself\u001b[0m\u001b[0;34m.\u001b[0m\u001b[0mname\u001b[0m\u001b[0;34m,\u001b[0m\u001b[0;34m\u001b[0m\u001b[0;34m\u001b[0m\u001b[0m\n\u001b[1;32m    253\u001b[0m                 \u001b[0mlist\u001b[0m\u001b[0;34m(\u001b[0m\u001b[0margs\u001b[0m\u001b[0;34m)\u001b[0m\u001b[0;34m,\u001b[0m\u001b[0;34m\u001b[0m\u001b[0;34m\u001b[0m\u001b[0m\n",
            "\u001b[0;32m/usr/local/lib/python3.10/dist-packages/tensorflow/python/eager/context.py\u001b[0m in \u001b[0;36mcall_function\u001b[0;34m(self, name, tensor_inputs, num_outputs)\u001b[0m\n\u001b[1;32m   1484\u001b[0m     \u001b[0mcancellation_context\u001b[0m \u001b[0;34m=\u001b[0m \u001b[0mcancellation\u001b[0m\u001b[0;34m.\u001b[0m\u001b[0mcontext\u001b[0m\u001b[0;34m(\u001b[0m\u001b[0;34m)\u001b[0m\u001b[0;34m\u001b[0m\u001b[0;34m\u001b[0m\u001b[0m\n\u001b[1;32m   1485\u001b[0m     \u001b[0;32mif\u001b[0m \u001b[0mcancellation_context\u001b[0m \u001b[0;32mis\u001b[0m \u001b[0;32mNone\u001b[0m\u001b[0;34m:\u001b[0m\u001b[0;34m\u001b[0m\u001b[0;34m\u001b[0m\u001b[0m\n\u001b[0;32m-> 1486\u001b[0;31m       outputs = execute.execute(\n\u001b[0m\u001b[1;32m   1487\u001b[0m           \u001b[0mname\u001b[0m\u001b[0;34m.\u001b[0m\u001b[0mdecode\u001b[0m\u001b[0;34m(\u001b[0m\u001b[0;34m\"utf-8\"\u001b[0m\u001b[0;34m)\u001b[0m\u001b[0;34m,\u001b[0m\u001b[0;34m\u001b[0m\u001b[0;34m\u001b[0m\u001b[0m\n\u001b[1;32m   1488\u001b[0m           \u001b[0mnum_outputs\u001b[0m\u001b[0;34m=\u001b[0m\u001b[0mnum_outputs\u001b[0m\u001b[0;34m,\u001b[0m\u001b[0;34m\u001b[0m\u001b[0;34m\u001b[0m\u001b[0m\n",
            "\u001b[0;32m/usr/local/lib/python3.10/dist-packages/tensorflow/python/eager/execute.py\u001b[0m in \u001b[0;36mquick_execute\u001b[0;34m(op_name, num_outputs, inputs, attrs, ctx, name)\u001b[0m\n\u001b[1;32m     51\u001b[0m   \u001b[0;32mtry\u001b[0m\u001b[0;34m:\u001b[0m\u001b[0;34m\u001b[0m\u001b[0;34m\u001b[0m\u001b[0m\n\u001b[1;32m     52\u001b[0m     \u001b[0mctx\u001b[0m\u001b[0;34m.\u001b[0m\u001b[0mensure_initialized\u001b[0m\u001b[0;34m(\u001b[0m\u001b[0;34m)\u001b[0m\u001b[0;34m\u001b[0m\u001b[0;34m\u001b[0m\u001b[0m\n\u001b[0;32m---> 53\u001b[0;31m     tensors = pywrap_tfe.TFE_Py_Execute(ctx._handle, device_name, op_name,\n\u001b[0m\u001b[1;32m     54\u001b[0m                                         inputs, attrs, num_outputs)\n\u001b[1;32m     55\u001b[0m   \u001b[0;32mexcept\u001b[0m \u001b[0mcore\u001b[0m\u001b[0;34m.\u001b[0m\u001b[0m_NotOkStatusException\u001b[0m \u001b[0;32mas\u001b[0m \u001b[0me\u001b[0m\u001b[0;34m:\u001b[0m\u001b[0;34m\u001b[0m\u001b[0;34m\u001b[0m\u001b[0m\n",
            "\u001b[0;31mKeyboardInterrupt\u001b[0m: "
          ]
        }
      ],
      "source": [
        "from keras.layers import LSTM, Dropout\n",
        "from keras.callbacks import EarlyStopping\n",
        "\n",
        "# Modelo LSTM mejorado con EarlyStopping y Dropout\n",
        "model_lstm_improved = Sequential()\n",
        "model_lstm_improved.add(LSTM(units=64, return_sequences=True, input_shape=(X_train.shape[1], 1), activation='tanh'))\n",
        "model_lstm_improved.add(Dropout(0.2))\n",
        "model_lstm_improved.add(LSTM(units=64, return_sequences=True, activation='tanh'))\n",
        "model_lstm_improved.add(Dropout(0.2))\n",
        "model_lstm_improved.add(LSTM(units=64, activation='tanh'))\n",
        "model_lstm_improved.add(Dropout(0.2))\n",
        "model_lstm_improved.add(Dense(units=1))\n",
        "\n",
        "# Compilar el modelo LSTM mejorado\n",
        "model_lstm_improved.compile(optimizer='adam', loss='mean_squared_error')\n",
        "\n",
        "# Definir EarlyStopping\n",
        "early_stopping = EarlyStopping(monitor='val_loss', patience=10, restore_best_weights=True)\n",
        "\n",
        "# Entrenar el modelo LSTM mejorado con EarlyStopping\n",
        "history_lstm_improved = model_lstm_improved.fit(X_train, y_train, epochs=100, batch_size=32, validation_data=(X_val, y_val), callbacks=[early_stopping])\n",
        "\n",
        "# Visualizar modelo\n",
        "model_lstm_improved.summary()\n",
        "\n",
        "# Graficar la pérdida durante el entrenamiento del modelo LSTM mejorado\n",
        "plt.plot(history_lstm_improved.history['loss'], label='Training Loss')\n",
        "plt.plot(history_lstm_improved.history['val_loss'], label='Validation Loss')\n",
        "plt.title('Training and Validation Loss - Improved LSTM with EarlyStopping')\n",
        "plt.xlabel('Epochs')\n",
        "plt.ylabel('Loss')\n",
        "plt.legend()\n",
        "plt.show()\n"
      ]
    },
    {
      "cell_type": "markdown",
      "source": [
        "Un dropout del 0.2 significa que durante el entrenamiento, el 20% de las unidades en la capa correspondiente se \"apagan\" aleatoriamente en cada paso de entrenamiento.\n",
        "\n",
        "Cuando se apaga una unidad, significa que su salida se establece en cero y no se considera en el proceso de propagación hacia atrás durante ese paso de entrenamiento. Esto se hace de manera aleatoria para cada unidad en la capa en cada paso de entrenamiento, lo que ayuda a prevenir el sobreajuste al introducir ruido en la red neuronal y obligarla a aprender de manera más robusta y generalizable.\n",
        "\n",
        "Aqui vemos como el modelo no converge rapidamente añadiendo una regularización dropout bastante baja."
      ],
      "metadata": {
        "id": "dOjsw34CL_Vv"
      }
    },
    {
      "cell_type": "code",
      "source": [
        "# Evaluación del modelo en el conjunto de prueba\n",
        "test_loss_lstm_improved = model_lstm_improved.evaluate(X_test, y_test)\n",
        "print(\"Test Loss (Improved LSTM):\", test_loss_lstm_improved)\n"
      ],
      "metadata": {
        "colab": {
          "base_uri": "https://localhost:8080/"
        },
        "id": "pjBDQqo7h4C7",
        "outputId": "b385355f-798f-4763-d412-f9f246197144"
      },
      "execution_count": 89,
      "outputs": [
        {
          "output_type": "stream",
          "name": "stdout",
          "text": [
            "3/3 [==============================] - 0s 34ms/step - loss: 0.8019\n",
            "Test Loss (Improved LSTM): 0.8018775582313538\n"
          ]
        }
      ]
    },
    {
      "cell_type": "markdown",
      "source": [
        "**GRU simple**"
      ],
      "metadata": {
        "id": "gtMBbUOtPna6"
      }
    },
    {
      "cell_type": "markdown",
      "source": [
        "Las GRU son una versión simplificada de las LSTM, con menos componentes y menos parámetros, lo que las hace más eficientes computacionalmente y menos propensas al sobreajuste en conjuntos de datos más pequeños. Sin embargo, las LSTM pueden ser más poderosas y capturar relaciones de largo plazo en secuencias más complejas debido a su estructura más elaborada y capacidad para almacenar y olvidar información durante períodos de tiempo más largos. En resumen, las GRU pueden ser más adecuadas para conjuntos de datos más pequeños y tareas más simples, mientras que las LSTM pueden ser preferibles para tareas más complejas que requieren una memoria a largo plazo más robusta."
      ],
      "metadata": {
        "id": "_UxihIGKQUiX"
      }
    },
    {
      "cell_type": "code",
      "execution_count": 42,
      "metadata": {
        "id": "nRiD8kICRbyE",
        "colab": {
          "base_uri": "https://localhost:8080/",
          "height": 1000
        },
        "outputId": "b5f15eda-1e57-4c83-e20e-90b3cc06acda"
      },
      "outputs": [
        {
          "output_type": "stream",
          "name": "stdout",
          "text": [
            "Epoch 1/100\n",
            "30/30 [==============================] - 4s 48ms/step - loss: 0.1025 - val_loss: 0.0270\n",
            "Epoch 2/100\n",
            "30/30 [==============================] - 1s 23ms/step - loss: 0.0093 - val_loss: 0.0073\n",
            "Epoch 3/100\n",
            "30/30 [==============================] - 1s 23ms/step - loss: 0.0042 - val_loss: 0.0045\n",
            "Epoch 4/100\n",
            "30/30 [==============================] - 1s 24ms/step - loss: 0.0020 - val_loss: 0.0036\n",
            "Epoch 5/100\n",
            "30/30 [==============================] - 1s 23ms/step - loss: 0.0017 - val_loss: 0.0040\n",
            "Epoch 6/100\n",
            "30/30 [==============================] - 1s 40ms/step - loss: 0.0017 - val_loss: 0.0033\n",
            "Epoch 7/100\n",
            "30/30 [==============================] - 1s 24ms/step - loss: 0.0016 - val_loss: 0.0033\n",
            "Epoch 8/100\n",
            "30/30 [==============================] - 1s 34ms/step - loss: 0.0016 - val_loss: 0.0036\n",
            "Epoch 9/100\n",
            "30/30 [==============================] - 1s 35ms/step - loss: 0.0015 - val_loss: 0.0030\n",
            "Epoch 10/100\n",
            "30/30 [==============================] - 1s 35ms/step - loss: 0.0015 - val_loss: 0.0033\n",
            "Epoch 11/100\n",
            "30/30 [==============================] - 1s 42ms/step - loss: 0.0015 - val_loss: 0.0033\n",
            "Epoch 12/100\n",
            "30/30 [==============================] - 1s 28ms/step - loss: 0.0015 - val_loss: 0.0031\n",
            "Epoch 13/100\n",
            "30/30 [==============================] - 1s 42ms/step - loss: 0.0014 - val_loss: 0.0028\n",
            "Epoch 14/100\n",
            "30/30 [==============================] - 2s 54ms/step - loss: 0.0014 - val_loss: 0.0035\n",
            "Epoch 15/100\n",
            "30/30 [==============================] - 2s 55ms/step - loss: 0.0015 - val_loss: 0.0026\n",
            "Epoch 16/100\n",
            "30/30 [==============================] - 1s 30ms/step - loss: 0.0014 - val_loss: 0.0027\n",
            "Epoch 17/100\n",
            "30/30 [==============================] - 1s 24ms/step - loss: 0.0014 - val_loss: 0.0024\n",
            "Epoch 18/100\n",
            "30/30 [==============================] - 1s 24ms/step - loss: 0.0014 - val_loss: 0.0026\n",
            "Epoch 19/100\n",
            "30/30 [==============================] - 1s 24ms/step - loss: 0.0013 - val_loss: 0.0029\n",
            "Epoch 20/100\n",
            "30/30 [==============================] - 1s 23ms/step - loss: 0.0013 - val_loss: 0.0026\n",
            "Epoch 21/100\n",
            "30/30 [==============================] - 1s 24ms/step - loss: 0.0013 - val_loss: 0.0024\n",
            "Epoch 22/100\n",
            "30/30 [==============================] - 1s 23ms/step - loss: 0.0013 - val_loss: 0.0023\n",
            "Epoch 23/100\n",
            "30/30 [==============================] - 1s 23ms/step - loss: 0.0013 - val_loss: 0.0026\n",
            "Epoch 24/100\n",
            "30/30 [==============================] - 1s 23ms/step - loss: 0.0013 - val_loss: 0.0029\n",
            "Epoch 25/100\n",
            "30/30 [==============================] - 1s 23ms/step - loss: 0.0013 - val_loss: 0.0025\n",
            "Epoch 26/100\n",
            "30/30 [==============================] - 1s 23ms/step - loss: 0.0013 - val_loss: 0.0025\n",
            "Epoch 27/100\n",
            "30/30 [==============================] - 1s 34ms/step - loss: 0.0013 - val_loss: 0.0026\n",
            "Epoch 28/100\n",
            "30/30 [==============================] - 1s 40ms/step - loss: 0.0013 - val_loss: 0.0029\n",
            "Epoch 29/100\n",
            "30/30 [==============================] - 1s 34ms/step - loss: 0.0014 - val_loss: 0.0022\n",
            "Epoch 30/100\n",
            "30/30 [==============================] - 1s 23ms/step - loss: 0.0012 - val_loss: 0.0023\n",
            "Epoch 31/100\n",
            "30/30 [==============================] - 1s 23ms/step - loss: 0.0013 - val_loss: 0.0028\n",
            "Epoch 32/100\n",
            "30/30 [==============================] - 1s 24ms/step - loss: 0.0013 - val_loss: 0.0024\n",
            "Epoch 33/100\n",
            "30/30 [==============================] - 1s 24ms/step - loss: 0.0013 - val_loss: 0.0021\n",
            "Epoch 34/100\n",
            "30/30 [==============================] - 1s 24ms/step - loss: 0.0012 - val_loss: 0.0024\n",
            "Epoch 35/100\n",
            "30/30 [==============================] - 1s 23ms/step - loss: 0.0012 - val_loss: 0.0022\n",
            "Epoch 36/100\n",
            "30/30 [==============================] - 1s 23ms/step - loss: 0.0012 - val_loss: 0.0023\n",
            "Epoch 37/100\n",
            "30/30 [==============================] - 1s 31ms/step - loss: 0.0012 - val_loss: 0.0021\n",
            "Epoch 38/100\n",
            "30/30 [==============================] - 1s 33ms/step - loss: 0.0012 - val_loss: 0.0022\n",
            "Epoch 39/100\n",
            "30/30 [==============================] - 1s 24ms/step - loss: 0.0012 - val_loss: 0.0023\n",
            "Epoch 40/100\n",
            "30/30 [==============================] - 1s 24ms/step - loss: 0.0012 - val_loss: 0.0022\n",
            "Epoch 41/100\n",
            "30/30 [==============================] - 1s 23ms/step - loss: 0.0012 - val_loss: 0.0020\n",
            "Epoch 42/100\n",
            "30/30 [==============================] - 1s 27ms/step - loss: 0.0012 - val_loss: 0.0021\n",
            "Epoch 43/100\n",
            "30/30 [==============================] - 1s 38ms/step - loss: 0.0012 - val_loss: 0.0021\n",
            "Epoch 44/100\n",
            "30/30 [==============================] - 1s 37ms/step - loss: 0.0012 - val_loss: 0.0022\n",
            "Epoch 45/100\n",
            "30/30 [==============================] - 1s 31ms/step - loss: 0.0012 - val_loss: 0.0023\n",
            "Epoch 46/100\n",
            "30/30 [==============================] - 1s 24ms/step - loss: 0.0012 - val_loss: 0.0021\n",
            "Epoch 47/100\n",
            "30/30 [==============================] - 1s 24ms/step - loss: 0.0012 - val_loss: 0.0023\n",
            "Epoch 48/100\n",
            "30/30 [==============================] - 1s 24ms/step - loss: 0.0012 - val_loss: 0.0021\n",
            "Epoch 49/100\n",
            "30/30 [==============================] - 1s 24ms/step - loss: 0.0012 - val_loss: 0.0022\n",
            "Epoch 50/100\n",
            "30/30 [==============================] - 1s 24ms/step - loss: 0.0012 - val_loss: 0.0023\n",
            "Epoch 51/100\n",
            "30/30 [==============================] - 1s 24ms/step - loss: 0.0012 - val_loss: 0.0022\n",
            "Epoch 52/100\n",
            "30/30 [==============================] - 1s 33ms/step - loss: 0.0012 - val_loss: 0.0022\n",
            "Epoch 53/100\n",
            "30/30 [==============================] - 1s 48ms/step - loss: 0.0012 - val_loss: 0.0021\n",
            "Epoch 54/100\n",
            "30/30 [==============================] - 2s 54ms/step - loss: 0.0012 - val_loss: 0.0021\n",
            "Epoch 55/100\n",
            "30/30 [==============================] - 1s 23ms/step - loss: 0.0012 - val_loss: 0.0019\n",
            "Epoch 56/100\n",
            "30/30 [==============================] - 1s 31ms/step - loss: 0.0012 - val_loss: 0.0020\n",
            "Epoch 57/100\n",
            "30/30 [==============================] - 1s 38ms/step - loss: 0.0012 - val_loss: 0.0022\n",
            "Epoch 58/100\n",
            "30/30 [==============================] - 1s 39ms/step - loss: 0.0012 - val_loss: 0.0022\n",
            "Epoch 59/100\n",
            "30/30 [==============================] - 1s 24ms/step - loss: 0.0012 - val_loss: 0.0021\n",
            "Epoch 60/100\n",
            "30/30 [==============================] - 1s 25ms/step - loss: 0.0012 - val_loss: 0.0021\n",
            "Epoch 61/100\n",
            "30/30 [==============================] - 1s 24ms/step - loss: 0.0012 - val_loss: 0.0020\n",
            "Epoch 62/100\n",
            "30/30 [==============================] - 1s 24ms/step - loss: 0.0012 - val_loss: 0.0021\n",
            "Epoch 63/100\n",
            "30/30 [==============================] - 1s 23ms/step - loss: 0.0012 - val_loss: 0.0020\n",
            "Epoch 64/100\n",
            "30/30 [==============================] - 1s 23ms/step - loss: 0.0011 - val_loss: 0.0019\n",
            "Epoch 65/100\n",
            "30/30 [==============================] - 1s 23ms/step - loss: 0.0012 - val_loss: 0.0020\n",
            "Epoch 66/100\n",
            "30/30 [==============================] - 1s 24ms/step - loss: 0.0012 - val_loss: 0.0020\n",
            "Epoch 67/100\n",
            "30/30 [==============================] - 1s 23ms/step - loss: 0.0012 - val_loss: 0.0019\n",
            "Epoch 68/100\n",
            "30/30 [==============================] - 1s 24ms/step - loss: 0.0012 - val_loss: 0.0020\n",
            "Epoch 69/100\n",
            "30/30 [==============================] - 1s 26ms/step - loss: 0.0012 - val_loss: 0.0019\n",
            "Epoch 70/100\n",
            "30/30 [==============================] - 1s 29ms/step - loss: 0.0012 - val_loss: 0.0020\n",
            "Epoch 71/100\n",
            "30/30 [==============================] - 1s 27ms/step - loss: 0.0012 - val_loss: 0.0020\n",
            "Epoch 72/100\n",
            "30/30 [==============================] - 1s 47ms/step - loss: 0.0011 - val_loss: 0.0019\n",
            "Epoch 73/100\n",
            "30/30 [==============================] - 2s 54ms/step - loss: 0.0012 - val_loss: 0.0021\n",
            "Epoch 74/100\n",
            "30/30 [==============================] - 1s 37ms/step - loss: 0.0012 - val_loss: 0.0019\n",
            "Epoch 75/100\n",
            "30/30 [==============================] - 1s 42ms/step - loss: 0.0011 - val_loss: 0.0021\n",
            "Epoch 76/100\n",
            "30/30 [==============================] - 1s 47ms/step - loss: 0.0012 - val_loss: 0.0021\n",
            "Epoch 77/100\n",
            "30/30 [==============================] - 1s 43ms/step - loss: 0.0011 - val_loss: 0.0019\n",
            "Epoch 78/100\n",
            "30/30 [==============================] - 2s 57ms/step - loss: 0.0011 - val_loss: 0.0018\n",
            "Epoch 79/100\n",
            "30/30 [==============================] - 1s 48ms/step - loss: 0.0012 - val_loss: 0.0021\n",
            "Epoch 80/100\n",
            "30/30 [==============================] - 1s 32ms/step - loss: 0.0012 - val_loss: 0.0021\n",
            "Epoch 81/100\n",
            "30/30 [==============================] - 1s 23ms/step - loss: 0.0011 - val_loss: 0.0019\n",
            "Epoch 82/100\n",
            "30/30 [==============================] - 1s 36ms/step - loss: 0.0012 - val_loss: 0.0022\n",
            "Epoch 83/100\n",
            "30/30 [==============================] - 2s 59ms/step - loss: 0.0012 - val_loss: 0.0020\n",
            "Epoch 84/100\n",
            "30/30 [==============================] - 2s 52ms/step - loss: 0.0011 - val_loss: 0.0019\n",
            "Epoch 85/100\n",
            "30/30 [==============================] - 1s 33ms/step - loss: 0.0012 - val_loss: 0.0019\n",
            "Epoch 86/100\n",
            "30/30 [==============================] - 1s 24ms/step - loss: 0.0011 - val_loss: 0.0020\n",
            "Epoch 87/100\n",
            "30/30 [==============================] - 1s 23ms/step - loss: 0.0011 - val_loss: 0.0019\n",
            "Epoch 88/100\n",
            "30/30 [==============================] - 1s 23ms/step - loss: 0.0012 - val_loss: 0.0020\n",
            "Epoch 89/100\n",
            "30/30 [==============================] - 1s 23ms/step - loss: 0.0011 - val_loss: 0.0018\n",
            "Epoch 90/100\n",
            "30/30 [==============================] - 1s 22ms/step - loss: 0.0012 - val_loss: 0.0020\n",
            "Epoch 91/100\n",
            "30/30 [==============================] - 1s 23ms/step - loss: 0.0012 - val_loss: 0.0021\n",
            "Epoch 92/100\n",
            "30/30 [==============================] - 1s 23ms/step - loss: 0.0011 - val_loss: 0.0019\n",
            "Epoch 93/100\n",
            "30/30 [==============================] - 1s 22ms/step - loss: 0.0012 - val_loss: 0.0020\n",
            "Epoch 94/100\n",
            "30/30 [==============================] - 1s 23ms/step - loss: 0.0012 - val_loss: 0.0018\n",
            "Epoch 95/100\n",
            "30/30 [==============================] - 1s 23ms/step - loss: 0.0012 - val_loss: 0.0018\n",
            "Epoch 96/100\n",
            "30/30 [==============================] - 1s 23ms/step - loss: 0.0012 - val_loss: 0.0018\n",
            "Epoch 97/100\n",
            "30/30 [==============================] - 1s 23ms/step - loss: 0.0011 - val_loss: 0.0020\n",
            "Epoch 98/100\n",
            "30/30 [==============================] - 1s 33ms/step - loss: 0.0011 - val_loss: 0.0017\n",
            "Epoch 99/100\n",
            "30/30 [==============================] - 1s 37ms/step - loss: 0.0012 - val_loss: 0.0019\n",
            "Epoch 100/100\n",
            "30/30 [==============================] - 1s 36ms/step - loss: 0.0012 - val_loss: 0.0019\n",
            "Model: \"sequential_19\"\n",
            "_________________________________________________________________\n",
            " Layer (type)                Output Shape              Param #   \n",
            "=================================================================\n",
            " gru_6 (GRU)                 (None, 32)                3360      \n",
            "                                                                 \n",
            " dense_21 (Dense)            (None, 1)                 33        \n",
            "                                                                 \n",
            "=================================================================\n",
            "Total params: 3393 (13.25 KB)\n",
            "Trainable params: 3393 (13.25 KB)\n",
            "Non-trainable params: 0 (0.00 Byte)\n",
            "_________________________________________________________________\n"
          ]
        },
        {
          "output_type": "display_data",
          "data": {
            "text/plain": [
              "<Figure size 640x480 with 1 Axes>"
            ],
            "image/png": "[encoded data removed]"
          },
          "metadata": {}
        }
      ],
      "source": [
        "from keras.layers import GRU\n",
        "\n",
        "# Modelo GRU sencillo\n",
        "model_gru = Sequential([\n",
        "    GRU(units=32, activation='relu', input_shape=(X_train.shape[1], 1)),\n",
        "    Dense(units=1)\n",
        "])\n",
        "\n",
        "# Compilar el modelo\n",
        "model_gru.compile(optimizer='adam', loss='mean_squared_error')\n",
        "\n",
        "# Entrenar el modelo\n",
        "history_gru = model_gru.fit(X_train, y_train, epochs=100, batch_size=32, validation_data=(X_val, y_val))\n",
        "\n",
        "# Visualizar modelo\n",
        "model_gru.summary()\n",
        "\n",
        "# Graficar la pérdida durante el entrenamiento para GRU\n",
        "plt.plot(history_gru.history['loss'], label='Training Loss')\n",
        "plt.plot(history_gru.history['val_loss'], label='Validation Loss')\n",
        "plt.title('Training and Validation Loss - GRU')\n",
        "plt.xlabel('Epochs')\n",
        "plt.ylabel('Loss')\n",
        "plt.legend()\n",
        "plt.show()\n"
      ]
    },
    {
      "cell_type": "markdown",
      "source": [
        "El modelo GRU consta de una capa GRU con 32 unidades y función de activación ReLU.\n",
        "\n",
        "Se agrega una capa densa con 1 unidad para la predicción final.\n",
        "\n",
        "Asi, tras ver los resultados vemos como el modelo converge muy rapidamente y mejora muy poco con el paso de las epochs. Por lo tanto vamos a realizar regularización y early stopping.\n",
        "\n"
      ],
      "metadata": {
        "id": "0B2BLmb_Pbdv"
      }
    },
    {
      "cell_type": "code",
      "source": [
        "# Evaluación del modelo en el conjunto de prueba\n",
        "test_loss_gru = model_gru.evaluate(X_test, y_test)\n",
        "print(\"Test Loss (GRU):\", test_loss_gru)\n"
      ],
      "metadata": {
        "colab": {
          "base_uri": "https://localhost:8080/"
        },
        "id": "woJeMpw5cAhX",
        "outputId": "bb9a5ccb-844a-419e-e775-770091306661"
      },
      "execution_count": 69,
      "outputs": [
        {
          "output_type": "stream",
          "name": "stdout",
          "text": [
            "3/3 [==============================] - 0s 13ms/step - loss: 0.1870\n",
            "Test Loss (GRU): 0.1869763731956482\n"
          ]
        }
      ]
    },
    {
      "cell_type": "markdown",
      "metadata": {
        "id": "q3PE5MTta8YT"
      },
      "source": [
        "**GRU mejorado (regularización y EarlyStopping)**"
      ]
    },
    {
      "cell_type": "code",
      "execution_count": 60,
      "metadata": {
        "id": "be50qss9a7bN",
        "colab": {
          "base_uri": "https://localhost:8080/",
          "height": 1000
        },
        "outputId": "5bc75a82-c1fb-48b3-e24a-52d7de5c8172"
      },
      "outputs": [
        {
          "output_type": "stream",
          "name": "stdout",
          "text": [
            "Epoch 1/100\n",
            "30/30 [==============================] - 4s 45ms/step - loss: 0.2392 - val_loss: 0.1149\n",
            "Epoch 2/100\n",
            "30/30 [==============================] - 1s 26ms/step - loss: 0.0478 - val_loss: 0.0304\n",
            "Epoch 3/100\n",
            "30/30 [==============================] - 1s 26ms/step - loss: 0.0305 - val_loss: 0.0287\n",
            "Epoch 4/100\n",
            "30/30 [==============================] - 1s 25ms/step - loss: 0.0254 - val_loss: 0.0250\n",
            "Epoch 5/100\n",
            "30/30 [==============================] - 1s 25ms/step - loss: 0.0218 - val_loss: 0.0228\n",
            "Epoch 6/100\n",
            "30/30 [==============================] - 1s 25ms/step - loss: 0.0201 - val_loss: 0.0206\n",
            "Epoch 7/100\n",
            "30/30 [==============================] - 1s 31ms/step - loss: 0.0187 - val_loss: 0.0200\n",
            "Epoch 8/100\n",
            "30/30 [==============================] - 1s 38ms/step - loss: 0.0174 - val_loss: 0.0188\n",
            "Epoch 9/100\n",
            "30/30 [==============================] - 1s 39ms/step - loss: 0.0163 - val_loss: 0.0175\n",
            "Epoch 10/100\n",
            "30/30 [==============================] - 1s 26ms/step - loss: 0.0152 - val_loss: 0.0174\n",
            "Epoch 11/100\n",
            "30/30 [==============================] - 1s 25ms/step - loss: 0.0144 - val_loss: 0.0154\n",
            "Epoch 12/100\n",
            "30/30 [==============================] - 1s 25ms/step - loss: 0.0136 - val_loss: 0.0154\n",
            "Epoch 13/100\n",
            "30/30 [==============================] - 1s 25ms/step - loss: 0.0128 - val_loss: 0.0145\n",
            "Epoch 14/100\n",
            "30/30 [==============================] - 1s 25ms/step - loss: 0.0122 - val_loss: 0.0138\n",
            "Epoch 15/100\n",
            "30/30 [==============================] - 1s 25ms/step - loss: 0.0115 - val_loss: 0.0134\n",
            "Epoch 16/100\n",
            "30/30 [==============================] - 1s 25ms/step - loss: 0.0110 - val_loss: 0.0126\n",
            "Epoch 17/100\n",
            "30/30 [==============================] - 1s 25ms/step - loss: 0.0105 - val_loss: 0.0119\n",
            "Epoch 18/100\n",
            "30/30 [==============================] - 1s 25ms/step - loss: 0.0100 - val_loss: 0.0118\n",
            "Epoch 19/100\n",
            "30/30 [==============================] - 1s 25ms/step - loss: 0.0096 - val_loss: 0.0115\n",
            "Epoch 20/100\n",
            "30/30 [==============================] - 1s 24ms/step - loss: 0.0092 - val_loss: 0.0111\n",
            "Epoch 21/100\n",
            "30/30 [==============================] - 1s 25ms/step - loss: 0.0088 - val_loss: 0.0103\n",
            "Epoch 22/100\n",
            "30/30 [==============================] - 1s 25ms/step - loss: 0.0085 - val_loss: 0.0098\n",
            "Epoch 23/100\n",
            "30/30 [==============================] - 1s 36ms/step - loss: 0.0081 - val_loss: 0.0098\n",
            "Epoch 24/100\n",
            "30/30 [==============================] - 1s 39ms/step - loss: 0.0077 - val_loss: 0.0104\n",
            "Epoch 25/100\n",
            "30/30 [==============================] - 1s 35ms/step - loss: 0.0075 - val_loss: 0.0095\n",
            "Epoch 26/100\n",
            "30/30 [==============================] - 1s 25ms/step - loss: 0.0072 - val_loss: 0.0092\n",
            "Epoch 27/100\n",
            "30/30 [==============================] - 1s 25ms/step - loss: 0.0070 - val_loss: 0.0084\n",
            "Epoch 28/100\n",
            "30/30 [==============================] - 1s 25ms/step - loss: 0.0067 - val_loss: 0.0090\n",
            "Epoch 29/100\n",
            "30/30 [==============================] - 1s 25ms/step - loss: 0.0065 - val_loss: 0.0085\n",
            "Epoch 30/100\n",
            "30/30 [==============================] - 1s 25ms/step - loss: 0.0064 - val_loss: 0.0082\n",
            "Epoch 31/100\n",
            "30/30 [==============================] - 1s 25ms/step - loss: 0.0063 - val_loss: 0.0090\n",
            "Epoch 32/100\n",
            "30/30 [==============================] - 1s 25ms/step - loss: 0.0060 - val_loss: 0.0081\n",
            "Epoch 33/100\n",
            "30/30 [==============================] - 1s 25ms/step - loss: 0.0058 - val_loss: 0.0082\n",
            "Epoch 34/100\n",
            "30/30 [==============================] - 1s 24ms/step - loss: 0.0056 - val_loss: 0.0077\n",
            "Epoch 35/100\n",
            "30/30 [==============================] - 1s 25ms/step - loss: 0.0055 - val_loss: 0.0075\n",
            "Epoch 36/100\n",
            "30/30 [==============================] - 1s 25ms/step - loss: 0.0053 - val_loss: 0.0077\n",
            "Epoch 37/100\n",
            "30/30 [==============================] - 1s 25ms/step - loss: 0.0052 - val_loss: 0.0070\n",
            "Epoch 38/100\n",
            "30/30 [==============================] - 1s 26ms/step - loss: 0.0051 - val_loss: 0.0071\n",
            "Epoch 39/100\n",
            "30/30 [==============================] - 1s 39ms/step - loss: 0.0049 - val_loss: 0.0083\n",
            "Epoch 40/100\n",
            "30/30 [==============================] - 1s 39ms/step - loss: 0.0049 - val_loss: 0.0072\n",
            "Epoch 41/100\n",
            "30/30 [==============================] - 1s 30ms/step - loss: 0.0048 - val_loss: 0.0065\n",
            "Epoch 42/100\n",
            "30/30 [==============================] - 1s 24ms/step - loss: 0.0049 - val_loss: 0.0066\n",
            "Epoch 43/100\n",
            "30/30 [==============================] - 1s 26ms/step - loss: 0.0047 - val_loss: 0.0070\n",
            "Epoch 44/100\n",
            "30/30 [==============================] - 1s 25ms/step - loss: 0.0046 - val_loss: 0.0079\n",
            "Epoch 45/100\n",
            "30/30 [==============================] - 1s 25ms/step - loss: 0.0045 - val_loss: 0.0064\n",
            "Epoch 46/100\n",
            "30/30 [==============================] - 1s 26ms/step - loss: 0.0044 - val_loss: 0.0072\n",
            "Epoch 47/100\n",
            "30/30 [==============================] - 1s 26ms/step - loss: 0.0044 - val_loss: 0.0075\n",
            "Epoch 48/100\n",
            "30/30 [==============================] - 1s 25ms/step - loss: 0.0044 - val_loss: 0.0070\n",
            "Epoch 49/100\n",
            "30/30 [==============================] - 1s 25ms/step - loss: 0.0042 - val_loss: 0.0077\n",
            "Epoch 50/100\n",
            "30/30 [==============================] - 1s 25ms/step - loss: 0.0041 - val_loss: 0.0063\n",
            "Epoch 51/100\n",
            "30/30 [==============================] - 1s 25ms/step - loss: 0.0041 - val_loss: 0.0065\n",
            "Epoch 52/100\n",
            "30/30 [==============================] - 1s 26ms/step - loss: 0.0041 - val_loss: 0.0058\n",
            "Epoch 53/100\n",
            "30/30 [==============================] - 1s 25ms/step - loss: 0.0041 - val_loss: 0.0065\n",
            "Epoch 54/100\n",
            "30/30 [==============================] - 1s 36ms/step - loss: 0.0040 - val_loss: 0.0058\n",
            "Epoch 55/100\n",
            "30/30 [==============================] - 1s 39ms/step - loss: 0.0040 - val_loss: 0.0062\n",
            "Epoch 56/100\n",
            "30/30 [==============================] - 1s 36ms/step - loss: 0.0040 - val_loss: 0.0068\n",
            "Epoch 57/100\n",
            "30/30 [==============================] - 1s 26ms/step - loss: 0.0040 - val_loss: 0.0061\n",
            "Model: \"sequential_30\"\n",
            "_________________________________________________________________\n",
            " Layer (type)                Output Shape              Param #   \n",
            "=================================================================\n",
            " gru_9 (GRU)                 (None, 32)                3360      \n",
            "                                                                 \n",
            " dense_32 (Dense)            (None, 1)                 33        \n",
            "                                                                 \n",
            "=================================================================\n",
            "Total params: 3393 (13.25 KB)\n",
            "Trainable params: 3393 (13.25 KB)\n",
            "Non-trainable params: 0 (0.00 Byte)\n",
            "_________________________________________________________________\n"
          ]
        },
        {
          "output_type": "display_data",
          "data": {
            "text/plain": [
              "<Figure size 640x480 with 1 Axes>"
            ],
            "image/png": "[encoded data removed]"
          },
          "metadata": {}
        }
      ],
      "source": [
        "from keras.layers import GRU\n",
        "from keras.callbacks import EarlyStopping\n",
        "\n",
        "# Modelo GRU mejorado con regularización L2 y EarlyStopping\n",
        "model_gru_early_stopping = Sequential([\n",
        "    GRU(units=32, activation='relu', kernel_regularizer=l2(0.001), input_shape=(X_train.shape[1], 1)),\n",
        "    Dense(units=1, kernel_regularizer=l2(0.01))\n",
        "])\n",
        "\n",
        "# Compilar el modelo\n",
        "model_gru_early_stopping.compile(optimizer='adam', loss='mean_squared_error')\n",
        "\n",
        "# Definir EarlyStopping\n",
        "early_stopping = EarlyStopping(monitor='val_loss', patience=5, restore_best_weights=True)\n",
        "\n",
        "# Entrenar el modelo con EarlyStopping\n",
        "history_gru_early_stopping = model_gru_early_stopping.fit(X_train, y_train, epochs=100, batch_size=32, validation_data=(X_val, y_val), callbacks=[early_stopping])\n",
        "\n",
        "model_gru_early_stopping.summary()\n",
        "\n",
        "# Graficar la pérdida durante el entrenamiento para GRU regularizado con EarlyStopping\n",
        "plt.plot(history_gru_early_stopping.history['loss'], label='Training Loss')\n",
        "plt.plot(history_gru_early_stopping.history['val_loss'], label='Validation Loss')\n",
        "plt.title('Training and Validation Loss - GRU Regularized with EarlyStopping')\n",
        "plt.xlabel('Epochs')\n",
        "plt.ylabel('Loss')\n",
        "plt.legend()\n",
        "plt.show()\n"
      ]
    },
    {
      "cell_type": "markdown",
      "source": [
        "En el nuevo modelo, la pérdida de entrenamiento disminuye rápidamente en las primeras épocas y luego se estabiliza.\n",
        "\n",
        "La pérdida final es más baja que en el modelo anterior, lo que indica que el modelo ha aprendido mejor los patrones en los datos de entrenamiento.Además, la pérdida de validación también disminuye inicialmente y luego se estabiliza.\n",
        "\n",
        "Por otro lado, la convergencia cercana entre la pérdida de entrenamiento y la de validación sugiere que el modelo generaliza bien a datos no vistos.\n",
        "\n",
        "En general, estos resultados son mejores que los anteriores (sin regularización L2 y early stopping).\n",
        "\n",
        "La regularización L2 ayuda a prevenir el sobreajuste, y el early stopping evita que el modelo continúe entrenando innecesariamente.\n",
        "\n",
        "En resumen, este nuevo modelo parece ser una mejora en términos de pérdida y generalización."
      ],
      "metadata": {
        "id": "TAPUy9C9R8Z4"
      }
    },
    {
      "cell_type": "code",
      "source": [
        "# Evaluación del modelo en el conjunto de prueba\n",
        "test_loss_gru_early_stopping = model_gru_early_stopping.evaluate(X_test, y_test)\n",
        "print(\"Test Loss (GRU with Early Stopping):\", test_loss_gru_early_stopping)\n"
      ],
      "metadata": {
        "colab": {
          "base_uri": "https://localhost:8080/"
        },
        "id": "9c-_0bmXccwq",
        "outputId": "c3758127-1689-468d-d74e-f35eb2e42537"
      },
      "execution_count": 61,
      "outputs": [
        {
          "output_type": "stream",
          "name": "stdout",
          "text": [
            "3/3 [==============================] - 0s 10ms/step - loss: 0.0932\n",
            "Test Loss (GRU with Early Stopping): 0.09321893006563187\n"
          ]
        }
      ]
    },
    {
      "cell_type": "markdown",
      "source": [
        "# **Conclusiones**"
      ],
      "metadata": {
        "id": "b_dkLWhNUJlw"
      }
    },
    {
      "cell_type": "markdown",
      "source": [
        "Una vez entrenados y evaluados todos los modelos, decidimos que modelo seleccionar."
      ],
      "metadata": {
        "id": "LYgdilg3snDs"
      }
    },
    {
      "cell_type": "code",
      "source": [
        "test_loss = model_simple_rnn.evaluate(X_test, y_test)\n",
        "print(\"Test Loss SimpleRNN:\", test_loss)"
      ],
      "metadata": {
        "colab": {
          "base_uri": "https://localhost:8080/"
        },
        "id": "bEMU4vEStapE",
        "outputId": "db3ef358-bcc6-450e-ee42-105961dcb202"
      },
      "execution_count": 74,
      "outputs": [
        {
          "output_type": "stream",
          "name": "stdout",
          "text": [
            "3/3 [==============================] - 0s 10ms/step - loss: 0.3750\n",
            "Test Loss SimpleRNN: 0.37498340010643005\n"
          ]
        }
      ]
    },
    {
      "cell_type": "code",
      "source": [
        "test_loss = model_simple_rnn_regularized.evaluate(X_test, y_test)\n",
        "print(\"Test Loss SImpleRNN mejorado:\", test_loss)"
      ],
      "metadata": {
        "colab": {
          "base_uri": "https://localhost:8080/"
        },
        "id": "1Yv4bj5Su7jr",
        "outputId": "716c4811-d774-4bc5-a929-4baf167f5553"
      },
      "execution_count": 79,
      "outputs": [
        {
          "output_type": "stream",
          "name": "stdout",
          "text": [
            "3/3 [==============================] - 0s 12ms/step - loss: 0.1552\n",
            "Test Loss: 0.1552405208349228\n"
          ]
        }
      ]
    },
    {
      "cell_type": "code",
      "source": [
        "test_loss_lstm = model_lstm.evaluate(X_test, y_test)\n",
        "print(\"Test Loss (LSTM simple):\", test_loss_lstm)"
      ],
      "metadata": {
        "colab": {
          "base_uri": "https://localhost:8080/"
        },
        "id": "oNY-IHp_wN7e",
        "outputId": "71da9b10-415b-450c-ed45-209d7afacbb9"
      },
      "execution_count": 80,
      "outputs": [
        {
          "output_type": "stream",
          "name": "stdout",
          "text": [
            "3/3 [==============================] - 0s 17ms/step - loss: 4.1842\n",
            "Test Loss (LSTM): 4.184231758117676\n"
          ]
        }
      ]
    },
    {
      "cell_type": "code",
      "source": [
        "test_loss_lstm_improved = model_lstm_improved.evaluate(X_test, y_test)\n",
        "print(\"Test Loss (Mejorado LSTM):\", test_loss_lstm_improved)"
      ],
      "metadata": {
        "colab": {
          "base_uri": "https://localhost:8080/"
        },
        "id": "Dg4qJSBhwTsa",
        "outputId": "c0c61ec0-4c33-48c0-beb9-64df3cb1811e"
      },
      "execution_count": 81,
      "outputs": [
        {
          "output_type": "stream",
          "name": "stdout",
          "text": [
            "3/3 [==============================] - 0s 24ms/step - loss: 0.1031\n",
            "Test Loss (Improved LSTM): 0.10310623049736023\n"
          ]
        }
      ]
    },
    {
      "cell_type": "code",
      "source": [
        "test_loss_gru = model_gru.evaluate(X_test, y_test)\n",
        "print(\"Test Loss (GRU):\", test_loss_gru)\n"
      ],
      "metadata": {
        "colab": {
          "base_uri": "https://localhost:8080/"
        },
        "id": "xiydfYMZyUfr",
        "outputId": "85bac566-a9ba-4e7f-9f36-f39b1655e46e"
      },
      "execution_count": 90,
      "outputs": [
        {
          "output_type": "stream",
          "name": "stdout",
          "text": [
            "3/3 [==============================] - 0s 20ms/step - loss: 0.1870\n",
            "Test Loss (GRU): 0.1869763731956482\n"
          ]
        }
      ]
    },
    {
      "cell_type": "code",
      "source": [
        "test_loss_gru_early_stopping = model_gru_early_stopping.evaluate(X_test, y_test)\n",
        "print(\"Test Loss (GRU Mejorado):\", test_loss_gru_early_stopping)"
      ],
      "metadata": {
        "colab": {
          "base_uri": "https://localhost:8080/"
        },
        "id": "1BBhlaqM0OhZ",
        "outputId": "9300d191-4be0-4393-9712-f306ca93a7c3"
      },
      "execution_count": 91,
      "outputs": [
        {
          "output_type": "stream",
          "name": "stdout",
          "text": [
            "3/3 [==============================] - 0s 14ms/step - loss: 0.0932\n",
            "Test Loss (GRU with Early Stopping): 0.09321893006563187\n"
          ]
        }
      ]
    },
    {
      "cell_type": "markdown",
      "source": [
        "Los modelos simples, como SimpleRNN, LSTM Simple y GRU Simple, han demostrado un rendimiento notable tanto en los conjuntos de entrenamiento como en los de prueba. Dado que estamos tratando con datos de series temporales de precios de acciones de Tesla, que pueden seguir patrones simples y predecibles en cierta medida, no es sorprendente que estos modelos simples logren buenos resultados.\n",
        "\n",
        "Por otro lado, los modelos mejorados, como el LSTM Mejorado y el GRU Mejorado con Early Stopping, han demostrado un rendimiento superior en ambos conjuntos de datos. Estos modelos incorporan técnicas como regularización y dropout para evitar el sobreajuste, así como Early Stopping para detener el entrenamiento cuando no se observa mejora en el conjunto de validación. Es interesante notar que, aunque LSTM y GRU son tipos diferentes de células de memoria recurrente, ambos han demostrado ser efectivos en este caso. La principal diferencia radica en la forma en que manejan la información de estado oculta y las puertas de actualización. Mientras que LSTM utiliza puertas de olvido, entrada y salida, GRU utiliza solo dos puertas: reinicio y actualización.\n",
        "\n",
        "Como reflexion personal es sorprendente que el rendimiento de LSTM no sea tan bueno en este caso de uso de series temporales por varias razones. Tradicionalmente, LSTM se considera una opción robusta para modelar series temporales debido a su capacidad para capturar dependencias a largo plazo en los datos secuenciales. Sin embargo, en este caso específico de predicción de precios de acciones de Tesla, los resultados de LSTM pueden no ser tan buenos por varias razones posibles:\n",
        "\n",
        "*   Complejidad del modelo: Aunque LSTM es potente para capturar patrones complejos en los datos secuenciales, también puede ser propenso al sobreajuste, especialmente en conjuntos de datos relativamente pequeños o con pocos datos de entrenamiento.\n",
        "*   Arquitectura del modelo: La arquitectura de LSTM puede no ser la más adecuada para este conjunto de datos específico. Aunque LSTM es capaz de aprender dependencias a largo plazo, también tiene más parámetros y puede ser más propenso al sobreajuste en comparación con otros modelos más simples como SimpleRNN o GRU.\n",
        "\n"
      ],
      "metadata": {
        "id": "X55sREi50kq7"
      }
    },
    {
      "cell_type": "markdown",
      "source": [
        "# **Proyección futura**"
      ],
      "metadata": {
        "id": "5TODIYol2k_8"
      }
    },
    {
      "cell_type": "markdown",
      "source": [
        "\n",
        "Como siguiente paso potencial en nuestro trabajo, una vez seleccionados 2 o 3 modelos prometedores de entre los evaluados, sería realizar predicciones para el precio de cierre de la acción de Tesla en el día siguiente. Esta actividad nos permitiría no solo evaluar el rendimiento de los modelos en términos de la métrica de pérdida, sino también comprender cómo se comportan en la práctica al hacer predicciones del mundo real.\n",
        "\n",
        "Al predecir el precio de cierre del día siguiente, podríamos obtener una idea más clara de la capacidad de los modelos para anticipar cambios en el mercado de valores y capturar patrones de fluctuación de precios. Además, nos permitiría comparar las predicciones generadas por diferentes modelos y determinar cuál ofrece las proyecciones más precisas y útiles.\n",
        "\n",
        "Dado que nuestro enfoque se ha centrado principalmente en la evaluación de modelos RNN aplicados al caso de uso de series temporales de precios de acciones de Tesla, la realización de predicciones en tiempo real se deja como una sugerencia para futuras investigaciones o implementaciones prácticas"
      ],
      "metadata": {
        "id": "VafL1cq62r2F"
      }
    }
  ],
  "metadata": {
    "colab": {
      "provenance": []
    },
    "kernelspec": {
      "display_name": "Python 3",
      "name": "python3"
    },
    "language_info": {
      "name": "python"
    }
  },
  "nbformat": 4,
  "nbformat_minor": 0
}